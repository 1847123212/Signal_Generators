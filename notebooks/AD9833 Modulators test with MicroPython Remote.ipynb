{
 "cells": [
  {
   "cell_type": "markdown",
   "metadata": {},
   "source": [
    "# AD9833 Modulators test with MicroPython Remote\n",
    "- https://www.analog.com/media/en/technical-documentation/data-sheets/ad9833.pdf\n",
    "- https://pypi.org/project/jupyter-micropython-remote/\n",
    "- https://towardsdatascience.com/micropython-on-esp-using-jupyter-6f366ff5ed9"
   ]
  },
  {
   "cell_type": "code",
   "execution_count": 1,
   "metadata": {},
   "outputs": [],
   "source": [
    "%local\n",
    "!ls /dev/ttyUSB*"
   ]
  },
  {
   "cell_type": "code",
   "execution_count": 1,
   "metadata": {},
   "outputs": [
    {
     "name": "stdout",
     "output_type": "stream",
     "text": [
      "\u001b[34mConnected on /dev/ttyUSB0\n",
      "\u001b[0m"
     ]
    }
   ],
   "source": [
    "%connect /dev/ttyUSB0 --baudrate=115200 --user='micro' --password='python' --wait=0"
   ]
  },
  {
   "cell_type": "code",
   "execution_count": null,
   "metadata": {},
   "outputs": [],
   "source": [
    "# %connect COM4 --baudrate=115200 --user='micro' --password='python' --wait=0"
   ]
  },
  {
   "cell_type": "code",
   "execution_count": 8,
   "metadata": {},
   "outputs": [],
   "source": [
    "# %lsmagic"
   ]
  },
  {
   "cell_type": "code",
   "execution_count": 1,
   "metadata": {},
   "outputs": [],
   "source": [
    "import adapters\n",
    "from ad9833 import AD9833\n",
    "\n",
    "import machine\n",
    "import gc\n",
    "\n",
    "gc.collect()"
   ]
  },
  {
   "cell_type": "markdown",
   "metadata": {},
   "source": [
    "## Debug mode?"
   ]
  },
  {
   "cell_type": "code",
   "execution_count": 1,
   "metadata": {
    "scrolled": false
   },
   "outputs": [],
   "source": [
    "adapters.SPI.DEBUG_MODE = False  # whether to show SPI written data.\n",
    "AD9833.DEBUG_MODE = False        # whether to dump registers. "
   ]
  },
  {
   "cell_type": "markdown",
   "metadata": {},
   "source": [
    "## Generators and Modulators"
   ]
  },
  {
   "cell_type": "code",
   "execution_count": 1,
   "metadata": {},
   "outputs": [],
   "source": [
    "with_hardware_device = False\n",
    "\n",
    "if with_hardware_device:\n",
    "    _spi = adapters.SPI.get_uPy_spi(polarity = 1)\n",
    "    _ss1 = adapters.Pin.get_uPy_pin(pin_id = 15, output = True) \n",
    "    _ss2 = adapters.Pin.get_uPy_pin(pin_id =  4, output = True) \n",
    "else:\n",
    "    _spi = _ss1 = _ss2 = None  # using None for testing without actual hardware device.\n",
    "\n",
    "ad1 = AD9833(_spi, _ss1)\n",
    "ad2 = AD9833(_spi, _ss2)\n",
    "\n",
    "ad1.reset()\n",
    "ad2.reset()"
   ]
  },
  {
   "cell_type": "code",
   "execution_count": 8,
   "metadata": {},
   "outputs": [],
   "source": [
    "bfsk = modulators.BFSK(_spi, _ss1)\n",
    "bpsk = modulators.BPSK(_spi, _ss1)\n",
    "dtmf = modulators.DTMF(_spi, _ss1, _ss2)\n",
    "fm = modulators.FM(_spi, _ss1)\n",
    "iq = modulators.IQ(_spi, _ss1, _ss2)\n",
    "ook = modulators.OOK(_spi, _ss1)\n",
    "pm = modulators.PM(_spi, _ss1)\n",
    "pwm = modulators.PWM(_spi, _ss1)\n",
    "qpsk = modulators.QPSK(_spi, _ss1)"
   ]
  },
  {
   "cell_type": "markdown",
   "metadata": {},
   "source": [
    "## Testing data sequence"
   ]
  },
  {
   "cell_type": "code",
   "execution_count": 20,
   "metadata": {},
   "outputs": [],
   "source": [
    "%local\n",
    "import numpy as np\n",
    "\n",
    "samples_size = 100\n",
    "duration = 0.1\n",
    "\n",
    "symbols = np.random.randint(2, size = samples_size)\n",
    "digital_sequence = [(symbol, duration) for symbol in symbols] \n",
    "\n",
    "\n",
    "symbols = np.random.uniform(-1, 1, size = samples_size).round(5)\n",
    "analog_sequence = [(symbol, duration) for symbol in symbols] \n",
    "\n",
    "\n",
    "symbols = np.random.choice(['1', '2', '3', 'A', '4', '5', '6', 'B', '7', '8', '9', 'C', '*', '0', '#', 'D'], \n",
    "                           size = samples_size)\n",
    "dtmf_sequence = [(symbol, duration) for symbol in symbols] \n",
    "\n",
    "\n",
    "symbols = np.random.choice([0, 1, 2, 3], size = samples_size)\n",
    "quadrature_sequence = [(symbol, duration) for symbol in symbols] "
   ]
  },
  {
   "cell_type": "code",
   "execution_count": 22,
   "metadata": {},
   "outputs": [
    {
     "name": "stdout",
     "output_type": "stream",
     "text": [
      "digital_sequence = [(1, 0.1), (1, 0.1), (1, 0.1), (0, 0.1), (1, 0.1), (1, 0.1), (0, 0.1), (1, 0.1), (0, 0.1), (1, 0.1), (1, 0.1), (0, 0.1), (0, 0.1), (1, 0.1), (0, 0.1), (1, 0.1), (1, 0.1), (1, 0.1), (1, 0.1), (1, 0.1), (1, 0.1), (0, 0.1), (1, 0.1), (1, 0.1), (1, 0.1), (0, 0.1), (1, 0.1), (1, 0.1), (0, 0.1), (0, 0.1), (1, 0.1), (1, 0.1), (1, 0.1), (0, 0.1), (1, 0.1), (0, 0.1), (0, 0.1), (1, 0.1), (1, 0.1), (1, 0.1), (0, 0.1), (0, 0.1), (1, 0.1), (0, 0.1), (1, 0.1), (1, 0.1), (0, 0.1), (0, 0.1), (1, 0.1), (1, 0.1), (1, 0.1), (1, 0.1), (0, 0.1), (1, 0.1), (0, 0.1), (0, 0.1), (0, 0.1), (0, 0.1), (0, 0.1), (1, 0.1), (1, 0.1), (0, 0.1), (1, 0.1), (1, 0.1), (0, 0.1), (0, 0.1), (1, 0.1), (0, 0.1), (0, 0.1), (1, 0.1), (0, 0.1), (0, 0.1), (0, 0.1), (1, 0.1), (0, 0.1), (1, 0.1), (1, 0.1), (1, 0.1), (1, 0.1), (0, 0.1), (1, 0.1), (1, 0.1), (0, 0.1), (1, 0.1), (1, 0.1), (1, 0.1), (1, 0.1), (0, 0.1), (0, 0.1), (1, 0.1), (0, 0.1), (0, 0.1), (1, 0.1), (0, 0.1), (0, 0.1), (0, 0.1), (0, 0.1), (0, 0.1), (0, 0.1), (0, 0.1)]\n"
     ]
    }
   ],
   "source": [
    "%local\n",
    "\n",
    "print('digital_sequence = {}'.format(digital_sequence))\n",
    "# print('analog_sequence = {}'.format(analog_sequence))\n",
    "# print('dtmf_sequence = {}'.format(dtmf_sequence))\n",
    "# print('quadrature_sequence = {}'.format(quadrature_sequence))"
   ]
  },
  {
   "cell_type": "code",
   "execution_count": 23,
   "metadata": {},
   "outputs": [],
   "source": [
    "digital_sequence = [(1, 0.1), (1, 0.1), (1, 0.1), (0, 0.1), (1, 0.1), (1, 0.1), (0, 0.1), (1, 0.1), (0, 0.1), (1, 0.1), (1, 0.1), (0, 0.1), (0, 0.1), (1, 0.1), (0, 0.1), (1, 0.1), (1, 0.1), (1, 0.1), (1, 0.1), (1, 0.1), (1, 0.1), (0, 0.1), (1, 0.1), (1, 0.1), (1, 0.1), (0, 0.1), (1, 0.1), (1, 0.1), (0, 0.1), (0, 0.1), (1, 0.1), (1, 0.1), (1, 0.1), (0, 0.1), (1, 0.1), (0, 0.1), (0, 0.1), (1, 0.1), (1, 0.1), (1, 0.1), (0, 0.1), (0, 0.1), (1, 0.1), (0, 0.1), (1, 0.1), (1, 0.1), (0, 0.1), (0, 0.1), (1, 0.1), (1, 0.1), (1, 0.1), (1, 0.1), (0, 0.1), (1, 0.1), (0, 0.1), (0, 0.1), (0, 0.1), (0, 0.1), (0, 0.1), (1, 0.1), (1, 0.1), (0, 0.1), (1, 0.1), (1, 0.1), (0, 0.1), (0, 0.1), (1, 0.1), (0, 0.1), (0, 0.1), (1, 0.1), (0, 0.1), (0, 0.1), (0, 0.1), (1, 0.1), (0, 0.1), (1, 0.1), (1, 0.1), (1, 0.1), (1, 0.1), (0, 0.1), (1, 0.1), (1, 0.1), (0, 0.1), (1, 0.1), (1, 0.1), (1, 0.1), (1, 0.1), (0, 0.1), (0, 0.1), (1, 0.1), (0, 0.1), (0, 0.1), (1, 0.1), (0, 0.1), (0, 0.1), (0, 0.1), (0, 0.1), (0, 0.1), (0, 0.1), (0, 0.1)]"
   ]
  },
  {
   "cell_type": "markdown",
   "metadata": {},
   "source": [
    "## Modulators test"
   ]
  },
  {
   "cell_type": "code",
   "execution_count": 23,
   "metadata": {},
   "outputs": [],
   "source": [
    "bfsk.send_sequence(digital_sequence)"
   ]
  },
  {
   "cell_type": "code",
   "execution_count": null,
   "metadata": {},
   "outputs": [],
   "source": [
    "bpsk.send_sequence(digital_sequence)"
   ]
  },
  {
   "cell_type": "code",
   "execution_count": null,
   "metadata": {},
   "outputs": [],
   "source": [
    "ook.send_sequence(digital_sequence)"
   ]
  },
  {
   "cell_type": "code",
   "execution_count": null,
   "metadata": {},
   "outputs": [],
   "source": [
    "fm.send_sequence(analog_sequence)"
   ]
  },
  {
   "cell_type": "code",
   "execution_count": null,
   "metadata": {},
   "outputs": [],
   "source": [
    "pm.send_sequence(analog_sequence)"
   ]
  },
  {
   "cell_type": "code",
   "execution_count": null,
   "metadata": {},
   "outputs": [],
   "source": [
    "qpsk.send_sequence(quadrature_sequence)"
   ]
  },
  {
   "cell_type": "code",
   "execution_count": null,
   "metadata": {},
   "outputs": [],
   "source": [
    "iq.send_sequence(quadrature_sequence)"
   ]
  },
  {
   "cell_type": "code",
   "execution_count": null,
   "metadata": {},
   "outputs": [],
   "source": [
    "dtmf.send_sequence(dtmf_sequence)"
   ]
  },
  {
   "cell_type": "code",
   "execution_count": null,
   "metadata": {},
   "outputs": [],
   "source": [
    "pwm.run()"
   ]
  }
 ],
 "metadata": {
  "kernelspec": {
   "display_name": "MicroPython Remote",
   "language": "micropython",
   "name": "micropython"
  },
  "language_info": {
   "codemirror_mode": "python",
   "file_extension": ".py",
   "mimetype": "text/python",
   "name": "micropython"
  }
 },
 "nbformat": 4,
 "nbformat_minor": 2
}
