{
 "cells": [
  {
   "cell_type": "markdown",
   "metadata": {},
   "source": [
    "# Generate ADF4351 registers related funcitons\n",
    "- https://www.analog.com/media/en/technical-documentation/data-sheets/ADF4351.pdf"
   ]
  },
  {
   "cell_type": "code",
   "execution_count": 1,
   "metadata": {},
   "outputs": [],
   "source": [
    "import os, sys\n",
    "\n",
    "def gen_relative_path(target_path): \n",
    "    \n",
    "    def del_same_parents(target_path, current_path):\n",
    "        if len(target_path) * len(current_path) > 0:\n",
    "            if target_path[0] == current_path[0]:\n",
    "                target_path.pop(0)\n",
    "                current_path.pop(0)\n",
    "                del_same_parents(target_path, current_path)\n",
    "            \n",
    "    current_path = os.getcwd().replace('\\\\', '/').split('/')\n",
    "    target_path = target_path.replace('\\\\', '/').split('/')\n",
    "    del_same_parents(target_path, current_path)\n",
    "    \n",
    "    return ['..'] * len(current_path) + target_path\n",
    "\n",
    "\n",
    "def append_source_relative_path(source_relative_path):\n",
    "    sys.path.append(os.sep.join(source_relative_path))"
   ]
  },
  {
   "cell_type": "code",
   "execution_count": 14,
   "metadata": {},
   "outputs": [
    {
     "name": "stdout",
     "output_type": "stream",
     "text": [
      "[['..', '..', '..', 'codes', 'signal_generators', 'adf435x']]\n"
     ]
    }
   ],
   "source": [
    "paths = ['C:\\\\Users\\\\Wei\\\\Dropbox\\\\Coding\\\\notebooks\\\\專案\\\\待處理\\\\Signal Generators\\\\bitbucket\\\\github\\\\codes\\\\signal_generators\\\\adf435x']\n",
    "paths = [gen_relative_path(p) for p in paths]\n",
    "print(paths)"
   ]
  },
  {
   "cell_type": "code",
   "execution_count": 3,
   "metadata": {},
   "outputs": [],
   "source": [
    "paths = [['..', '..', '..', '..', '..', '..', 'Utilities', 'bitbucket', 'github', 'codes'],          \n",
    "         ['..', '..', '..', 'codes']]\n",
    "\n",
    "for path in paths:\n",
    "    append_source_relative_path(path)"
   ]
  },
  {
   "cell_type": "code",
   "execution_count": 4,
   "metadata": {},
   "outputs": [
    {
     "name": "stdout",
     "output_type": "stream",
     "text": [
      "Populating the interactive namespace from numpy and matplotlib\n"
     ]
    }
   ],
   "source": [
    "%pylab inline\n",
    "\n",
    "from signal_generators.adf435x.registers_map import _get_registers_map"
   ]
  },
  {
   "cell_type": "code",
   "execution_count": 5,
   "metadata": {},
   "outputs": [],
   "source": [
    "map = _get_registers_map()"
   ]
  },
  {
   "cell_type": "code",
   "execution_count": 33,
   "metadata": {},
   "outputs": [],
   "source": [
    "import textwrap\n",
    "\n",
    "\n",
    "\n",
    "def gen_comment(string, width = 90):\n",
    "    lines = textwrap.wrap( string,   width = width)\n",
    "    lines = ['\\t# {}'.format(l) for l in lines]\n",
    "    return '\\n'.join(lines)\n",
    "\n",
    "def remove_comment(line):\n",
    "    try:\n",
    "        idx = line.index('#') \n",
    "        return line[:idx]\n",
    "    except:\n",
    "        return line\n",
    "\n",
    "def remove_comment_from_file(file_name):\n",
    "    with open(file_name, encoding = 'utf-8') as f:\n",
    "        lines = f.readlines()\n",
    "\n",
    "    for line in lines:\n",
    "        print(remove_comment(line).replace('\\n', ''))\n",
    "        \n",
    "def re_wrap_comment(comment, width = 90):\n",
    "    tab_len = comment.index('#') \n",
    "    cm = comment.replace(' ' * tab_len + '# ', '').replace('\\n', ' ')    \n",
    "    lines = textwrap.wrap(cm,   width = width - tab_len)\n",
    "    comments = [(' ' * tab_len + '# {}').format(l) for l in lines]\n",
    "    return '\\n'.join(comments) \n",
    "\n",
    "def gen_set_fun_n_property(registers_map, width = 90):\n",
    "\n",
    "    def check_char(string):\n",
    "        string = string.replace('-', '_')\n",
    "        return string\n",
    "    \n",
    "    def gen_set_fun(ele):\n",
    "        fun_str = \"def _set_{}(self, value  = True):\\n\".format(check_char(ele.name.lower()))\n",
    "        fun_str += gen_comment(ele.description, width)\n",
    "        fun_str += '\\n\\n'\n",
    "        fun_str += \"\\tself._adf._write_element_by_name('{}', int(bool(value)))\\n\".format(ele.name)\n",
    "        return fun_str\n",
    "\n",
    "    def gen_property(ele):    \n",
    "        fun_str = \"@property\\n\"\n",
    "        fun_str += \"def {}(self):\\n\".format(check_char(ele.name.lower())) \n",
    "        # fun_str += gen_comment(ele.description, width)\n",
    "        # fun_str += '\\n\\n'\n",
    "        fun_str += \"\\treturn self._adf.map.elements['{}']['element'].value\\n\".format(ele.name)\n",
    "        return fun_str\n",
    "\n",
    "    i = 0\n",
    "    \n",
    "    for reg in map._registers:\n",
    "\n",
    "        for ele in reg._elements:\n",
    "\n",
    "            if ele.name != 'Index':\n",
    "                print (gen_set_fun(ele))\n",
    "                print (gen_property(ele)) \n",
    "                \n",
    "                i += 1\n",
    "    print(i)"
   ]
  },
  {
   "cell_type": "code",
   "execution_count": 45,
   "metadata": {},
   "outputs": [
    {
     "name": "stdout",
     "output_type": "stream",
     "text": [
      "            # Setting the DB18 bit to 1 enables cycle slip reduction. CSR is a method for\n",
      "            # improving lock times. Note that the signal at the phase frequency detector\n",
      "            # (PFD) must have a 50% duty cycle for cycle slip reduction to work. The charge\n",
      "            # pump current setting must also be set to a minimum. For more information, see\n",
      "            # the Cycle Slip Reduction for Faster Lock Times section.\n"
     ]
    }
   ],
   "source": [
    "comment = '''            # Setting the DB18 bit to 1 enables cycle slip reduction. CSR is a method for improving lock\n",
    "            # times. Note that the signal at the phase frequency detector (PFD) must have a 50% duty\n",
    "            # cycle for cycle slip reduction to work. The charge pump current setting must also be set\n",
    "            # to a minimum. For more information, see the Cycle Slip Reduction for Faster Lock Times\n",
    "            # section.\n",
    "'''\n",
    "\n",
    "print(re_wrap_comment(comment, width = 90))"
   ]
  },
  {
   "cell_type": "code",
   "execution_count": 47,
   "metadata": {},
   "outputs": [],
   "source": [
    "file_name = os.path.sep.join(['..', '..', '..', 'codes', 'signal_generators', 'adf435x', 'adf4351.py'])\n",
    "\n",
    "# remove_comment_from_file(file_name)"
   ]
  },
  {
   "cell_type": "code",
   "execution_count": 36,
   "metadata": {
    "scrolled": false
   },
   "outputs": [],
   "source": [
    "# gen_set_fun_n_property(map, width = 90)"
   ]
  }
 ],
 "metadata": {
  "kernelspec": {
   "display_name": "Python 3",
   "language": "python",
   "name": "python3"
  },
  "language_info": {
   "codemirror_mode": {
    "name": "ipython",
    "version": 3
   },
   "file_extension": ".py",
   "mimetype": "text/x-python",
   "name": "python",
   "nbconvert_exporter": "python",
   "pygments_lexer": "ipython3",
   "version": "3.6.10"
  }
 },
 "nbformat": 4,
 "nbformat_minor": 2
}
