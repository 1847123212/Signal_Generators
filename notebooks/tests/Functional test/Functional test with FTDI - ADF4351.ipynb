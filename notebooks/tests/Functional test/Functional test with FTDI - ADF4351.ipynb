{
 "cells": [
  {
   "cell_type": "markdown",
   "metadata": {},
   "source": [
    "# Functional test with FTDI - ADF4351\n",
    "- https://www.analog.com/media/en/technical-documentation/data-sheets/ADF4351.pdf"
   ]
  },
  {
   "cell_type": "code",
   "execution_count": 1,
   "metadata": {},
   "outputs": [],
   "source": [
    "import os, sys\n",
    "\n",
    "def gen_relative_path(target_path): \n",
    "    \n",
    "    def del_same_parents(target_path, current_path):\n",
    "        if len(target_path) * len(current_path) > 0:\n",
    "            if target_path[0] == current_path[0]:\n",
    "                target_path.pop(0)\n",
    "                current_path.pop(0)\n",
    "                del_same_parents(target_path, current_path)\n",
    "            \n",
    "    current_path = os.getcwd().replace('\\\\', '/').split('/')\n",
    "    target_path = target_path.replace('\\\\', '/').split('/')\n",
    "    del_same_parents(target_path, current_path)\n",
    "    \n",
    "    return ['..'] * len(current_path) + target_path\n",
    "\n",
    "\n",
    "def append_source_relative_path(source_relative_path):\n",
    "    sys.path.append(os.sep.join(source_relative_path))"
   ]
  },
  {
   "cell_type": "code",
   "execution_count": 2,
   "metadata": {},
   "outputs": [],
   "source": [
    "# paths = [' ']\n",
    "# paths = [gen_relative_path(p) for p in paths]\n",
    "# print(paths)"
   ]
  },
  {
   "cell_type": "code",
   "execution_count": 3,
   "metadata": {},
   "outputs": [],
   "source": [
    "paths = [['..', '..', '..', '..', '..', '..', '..', '已完成', 'Bridges', 'bitbucket', 'github', 'codes'], \n",
    "         ['..', '..', '..', '..', '..', '..', 'Utilities', 'bitbucket', 'github', 'codes'],\n",
    "         ['..', '..', '..', 'codes']]\n",
    "\n",
    "for path in paths:\n",
    "    append_source_relative_path(path)"
   ]
  },
  {
   "cell_type": "code",
   "execution_count": 4,
   "metadata": {},
   "outputs": [
    {
     "name": "stdout",
     "output_type": "stream",
     "text": [
      "Populating the interactive namespace from numpy and matplotlib\n"
     ]
    }
   ],
   "source": [
    "%pylab inline\n",
    "\n",
    "from utilities.adapters import peripherals\n",
    "from signal_generators.adf435x import ADF4351 \n",
    "from utilities.shift_register import ShiftRegister"
   ]
  },
  {
   "cell_type": "code",
   "execution_count": 5,
   "metadata": {},
   "outputs": [],
   "source": [
    "import pandas as pd\n",
    "\n",
    "#https://thispointer.com/python-pandas-how-to-display-full-dataframe-i-e-print-all-rows-columns-without-truncation/\n",
    "pd.set_option('display.max_rows', None)\n",
    "# pd.set_option('display.max_columns', None)\n",
    "# pd.set_option('display.width', None)\n",
    "# pd.set_option('display.max_colwidth', -1)"
   ]
  },
  {
   "cell_type": "markdown",
   "metadata": {},
   "source": [
    "## Debug mode?"
   ]
  },
  {
   "cell_type": "code",
   "execution_count": 6,
   "metadata": {
    "scrolled": false
   },
   "outputs": [],
   "source": [
    "cls = ADF4351 \n",
    "\n",
    "cls.DEBUG_MODE_SHOW_BUS_DATA = False         # whether to show bus data. \n",
    "cls.DEBUG_MODE_PRINT_REGISTER = False        # whether to print registers. "
   ]
  },
  {
   "cell_type": "markdown",
   "metadata": {},
   "source": [
    "## Generators"
   ]
  },
  {
   "cell_type": "code",
   "execution_count": 8,
   "metadata": {},
   "outputs": [],
   "source": [
    "with_hardware_device = True\n",
    "\n",
    "if with_hardware_device:\n",
    "    _clk = peripherals.Pin.get_Ftdi_pin(pin_id = 4)\n",
    "    _data = peripherals.Pin.get_Ftdi_pin(pin_id = 1)\n",
    "    _ss = peripherals.Pin.get_Ftdi_pin(pin_id = 3) \n",
    "    _spi = ShiftRegister(stb_pin = _ss, clk_pin = _clk, data_pin = _data, polarity = 0)\n",
    "    \n",
    "else:\n",
    "    _spi = _ss = None  # using None for testing without actual hardware device.\n",
    "\n",
    "bus = peripherals.SPI(_spi, _ss)\n",
    "adf = cls(bus)  "
   ]
  },
  {
   "cell_type": "code",
   "execution_count": 8,
   "metadata": {},
   "outputs": [
    {
     "data": {
      "text/html": [
       "<div>\n",
       "<style scoped>\n",
       "    .dataframe tbody tr th:only-of-type {\n",
       "        vertical-align: middle;\n",
       "    }\n",
       "\n",
       "    .dataframe tbody tr th {\n",
       "        vertical-align: top;\n",
       "    }\n",
       "\n",
       "    .dataframe thead th {\n",
       "        text-align: right;\n",
       "    }\n",
       "</style>\n",
       "<table border=\"1\" class=\"dataframe\">\n",
       "  <thead>\n",
       "    <tr style=\"text-align: right;\">\n",
       "      <th></th>\n",
       "      <th>register</th>\n",
       "      <th>address</th>\n",
       "      <th>default_value</th>\n",
       "      <th>element_name</th>\n",
       "      <th>idx_lowest_bit</th>\n",
       "      <th>n_bits</th>\n",
       "      <th>read_only</th>\n",
       "      <th>value</th>\n",
       "      <th>value_2</th>\n",
       "      <th>different</th>\n",
       "    </tr>\n",
       "  </thead>\n",
       "  <tbody>\n",
       "  </tbody>\n",
       "</table>\n",
       "</div>"
      ],
      "text/plain": [
       "Empty DataFrame\n",
       "Columns: [register, address, default_value, element_name, idx_lowest_bit, n_bits, read_only, value, value_2, different]\n",
       "Index: []"
      ]
     },
     "execution_count": 8,
     "metadata": {},
     "output_type": "execute_result"
    }
   ],
   "source": [
    "ad_1500M = [0x3C0000, 0x80087D1, 0x30041C2, 0xE404B3, 0x932224, 0X580005] \n",
    "my_config_1500M = [0x3C0000, 134252497, 50348482, 14943411, 9642532, 5767173] \n",
    "\n",
    "df = adf.map.compare_values_sets_pd(enumerate(ad_1500M), enumerate(my_config_1500M))\n",
    "df[df.different == 1]"
   ]
  },
  {
   "cell_type": "code",
   "execution_count": 9,
   "metadata": {},
   "outputs": [],
   "source": [
    "# adf.map.load_values(enumerate(ad_1500M))\n",
    "# adf.write_all_registers()"
   ]
  },
  {
   "cell_type": "code",
   "execution_count": 10,
   "metadata": {},
   "outputs": [],
   "source": [
    "# adf.map.load_values(enumerate(my_config_1500M))\n",
    "# adf.write_all_registers()"
   ]
  },
  {
   "cell_type": "code",
   "execution_count": 11,
   "metadata": {},
   "outputs": [],
   "source": [
    "adf.set_frequency(2e9, channel_resolution=100e3)#, rf_divider_as=2)\n",
    "# adf.current_dividers"
   ]
  },
  {
   "cell_type": "code",
   "execution_count": 12,
   "metadata": {},
   "outputs": [],
   "source": [
    "adf.set_frequency(1.5e9, channel_resolution=100e3)#, rf_divider_as=2)\n",
    "# adf.current_dividers"
   ]
  },
  {
   "cell_type": "code",
   "execution_count": 13,
   "metadata": {},
   "outputs": [],
   "source": [
    "adf.set_frequency(1.0e9, channel_resolution=100e3)#, rf_divider_as=2)\n",
    "# adf.current_dividers"
   ]
  },
  {
   "cell_type": "code",
   "execution_count": 14,
   "metadata": {},
   "outputs": [],
   "source": [
    "adf.rf_n_divider.step(3)"
   ]
  },
  {
   "cell_type": "code",
   "execution_count": 15,
   "metadata": {
    "scrolled": false
   },
   "outputs": [],
   "source": [
    "adf.set_frequency(500e6, channel_resolution=100e3)#, rf_divider_as=2)\n",
    "# adf.current_dividers"
   ]
  },
  {
   "cell_type": "code",
   "execution_count": 16,
   "metadata": {
    "scrolled": true
   },
   "outputs": [],
   "source": [
    "adf.set_frequency(435e6, channel_resolution=100e3)#, rf_divider_as=2)\n",
    "# adf.current_dividers"
   ]
  },
  {
   "cell_type": "code",
   "execution_count": 17,
   "metadata": {
    "scrolled": false
   },
   "outputs": [],
   "source": [
    "adf.set_frequency(434375000, channel_resolution=100e3)#, rf_divider_as=2)\n",
    "# adf.current_dividers"
   ]
  },
  {
   "cell_type": "code",
   "execution_count": 18,
   "metadata": {
    "scrolled": true
   },
   "outputs": [],
   "source": [
    "adf.set_frequency(50.2e6, channel_resolution=100e3)\n",
    "# adf.current_dividers"
   ]
  },
  {
   "cell_type": "code",
   "execution_count": 19,
   "metadata": {},
   "outputs": [
    {
     "data": {
      "text/html": [
       "<div>\n",
       "<style scoped>\n",
       "    .dataframe tbody tr th:only-of-type {\n",
       "        vertical-align: middle;\n",
       "    }\n",
       "\n",
       "    .dataframe tbody tr th {\n",
       "        vertical-align: top;\n",
       "    }\n",
       "\n",
       "    .dataframe thead th {\n",
       "        text-align: right;\n",
       "    }\n",
       "</style>\n",
       "<table border=\"1\" class=\"dataframe\">\n",
       "  <thead>\n",
       "    <tr style=\"text-align: right;\">\n",
       "      <th></th>\n",
       "      <th>register</th>\n",
       "      <th>address</th>\n",
       "      <th>default_value</th>\n",
       "      <th>element_name</th>\n",
       "      <th>idx_lowest_bit</th>\n",
       "      <th>n_bits</th>\n",
       "      <th>read_only</th>\n",
       "      <th>value</th>\n",
       "      <th>value_2</th>\n",
       "      <th>different</th>\n",
       "    </tr>\n",
       "  </thead>\n",
       "  <tbody>\n",
       "    <tr>\n",
       "      <th>2</th>\n",
       "      <td>REGISTER_0</td>\n",
       "      <td>0</td>\n",
       "      <td>0</td>\n",
       "      <td>FRAC</td>\n",
       "      <td>3</td>\n",
       "      <td>12</td>\n",
       "      <td>False</td>\n",
       "      <td>0</td>\n",
       "      <td>128</td>\n",
       "      <td>1</td>\n",
       "    </tr>\n",
       "    <tr>\n",
       "      <th>18</th>\n",
       "      <td>REGISTER_2</td>\n",
       "      <td>2</td>\n",
       "      <td>0</td>\n",
       "      <td>LDF</td>\n",
       "      <td>8</td>\n",
       "      <td>1</td>\n",
       "      <td>False</td>\n",
       "      <td>1</td>\n",
       "      <td>0</td>\n",
       "      <td>1</td>\n",
       "    </tr>\n",
       "    <tr>\n",
       "      <th>19</th>\n",
       "      <td>REGISTER_2</td>\n",
       "      <td>2</td>\n",
       "      <td>0</td>\n",
       "      <td>LDP</td>\n",
       "      <td>7</td>\n",
       "      <td>1</td>\n",
       "      <td>False</td>\n",
       "      <td>1</td>\n",
       "      <td>0</td>\n",
       "      <td>1</td>\n",
       "    </tr>\n",
       "    <tr>\n",
       "      <th>27</th>\n",
       "      <td>REGISTER_3</td>\n",
       "      <td>3</td>\n",
       "      <td>0</td>\n",
       "      <td>ABP</td>\n",
       "      <td>22</td>\n",
       "      <td>1</td>\n",
       "      <td>False</td>\n",
       "      <td>1</td>\n",
       "      <td>0</td>\n",
       "      <td>1</td>\n",
       "    </tr>\n",
       "    <tr>\n",
       "      <th>28</th>\n",
       "      <td>REGISTER_3</td>\n",
       "      <td>3</td>\n",
       "      <td>0</td>\n",
       "      <td>Charge_Cancelation</td>\n",
       "      <td>21</td>\n",
       "      <td>1</td>\n",
       "      <td>False</td>\n",
       "      <td>1</td>\n",
       "      <td>0</td>\n",
       "      <td>1</td>\n",
       "    </tr>\n",
       "  </tbody>\n",
       "</table>\n",
       "</div>"
      ],
      "text/plain": [
       "      register  address  default_value        element_name  idx_lowest_bit  \\\n",
       "2   REGISTER_0        0              0                FRAC               3   \n",
       "18  REGISTER_2        2              0                 LDF               8   \n",
       "19  REGISTER_2        2              0                 LDP               7   \n",
       "27  REGISTER_3        3              0                 ABP              22   \n",
       "28  REGISTER_3        3              0  Charge_Cancelation              21   \n",
       "\n",
       "    n_bits  read_only  value  value_2  different  \n",
       "2       12      False      0      128          1  \n",
       "18       1      False      1        0          1  \n",
       "19       1      False      1        0          1  \n",
       "27       1      False      1        0          1  \n",
       "28       1      False      1        0          1  "
      ]
     },
     "execution_count": 19,
     "metadata": {},
     "output_type": "execute_result"
    }
   ],
   "source": [
    "ad_50M = [0x400000, 0x80087D1, 0x3004FC2, 0x6004B3, 0xEC8224, 0x580005]\n",
    "my_config_50M = [4194304, 134252497, 50352066, 6292659, 15499812, 5767173]\n",
    "my_config_50_2M = [4195328, 134252497, 50351682, 1203, 15499812, 5767173]\n",
    "\n",
    "df = adf.map.compare_values_sets_pd(enumerate(ad_50M), enumerate(my_config_50_2M))\n",
    "df[df.different == 1]"
   ]
  },
  {
   "cell_type": "code",
   "execution_count": 20,
   "metadata": {},
   "outputs": [],
   "source": [
    "adf.map.load_values(enumerate(ad_1500M))\n",
    "adf.write_all_registers()"
   ]
  },
  {
   "cell_type": "code",
   "execution_count": 21,
   "metadata": {},
   "outputs": [],
   "source": [
    "adf.map.load_values(enumerate(my_config_50_2M))\n",
    "adf.write_all_registers()"
   ]
  },
  {
   "cell_type": "markdown",
   "metadata": {},
   "source": [
    "## BFSK test"
   ]
  },
  {
   "cell_type": "code",
   "execution_count": 22,
   "metadata": {},
   "outputs": [],
   "source": [
    "adf.reset()\n",
    "\n",
    "adf.rf_n_divider._set_channel_resolution(100e3)\n",
    "\n",
    "reg_0_1500M = 0x3C0000 + 0x40\n",
    "reg_0_1500_2M = 0x3C0020\n",
    "reg_values = (reg_0_1500M, reg_0_1500_2M)\n",
    "seq = np.random.choice((0, 1), size = 100)\n",
    "\n",
    "for s in seq:\n",
    "    adf.map._registers[0].load_value(reg_values[s])\n",
    "    adf._write_register_0()"
   ]
  },
  {
   "cell_type": "markdown",
   "metadata": {},
   "source": [
    "## Current Configuration"
   ]
  },
  {
   "cell_type": "code",
   "execution_count": 23,
   "metadata": {},
   "outputs": [
    {
     "data": {
      "text/plain": [
       "(34375000.0, 4400000000.0)"
      ]
     },
     "execution_count": 23,
     "metadata": {},
     "output_type": "execute_result"
    }
   ],
   "source": [
    "RF_out_min = 2.2e9 / 64\n",
    "RF_out_max = 4.4e9\n",
    "RF_out_min, RF_out_max"
   ]
  },
  {
   "cell_type": "code",
   "execution_count": 24,
   "metadata": {},
   "outputs": [
    {
     "data": {
      "text/html": [
       "<div>\n",
       "<style scoped>\n",
       "    .dataframe tbody tr th:only-of-type {\n",
       "        vertical-align: middle;\n",
       "    }\n",
       "\n",
       "    .dataframe tbody tr th {\n",
       "        vertical-align: top;\n",
       "    }\n",
       "\n",
       "    .dataframe thead th {\n",
       "        text-align: right;\n",
       "    }\n",
       "</style>\n",
       "<table border=\"1\" class=\"dataframe\">\n",
       "  <thead>\n",
       "    <tr style=\"text-align: right;\">\n",
       "      <th></th>\n",
       "      <th>type</th>\n",
       "      <th>source_type</th>\n",
       "      <th>source_freq</th>\n",
       "      <th>my_divider</th>\n",
       "      <th>divider_equivalent</th>\n",
       "      <th>is_integer</th>\n",
       "      <th>my_freq</th>\n",
       "    </tr>\n",
       "  </thead>\n",
       "  <tbody>\n",
       "    <tr>\n",
       "      <th>0</th>\n",
       "      <td>_ReferenceInput</td>\n",
       "      <td>NaN</td>\n",
       "      <td>NaN</td>\n",
       "      <td>NaN</td>\n",
       "      <td>NaN</td>\n",
       "      <td>NaN</td>\n",
       "      <td>25000000</td>\n",
       "    </tr>\n",
       "    <tr>\n",
       "      <th>1</th>\n",
       "      <td>_ReferenceDoubler</td>\n",
       "      <td>_ReferenceInput</td>\n",
       "      <td>2.500000e+07</td>\n",
       "      <td>2.000</td>\n",
       "      <td>NaN</td>\n",
       "      <td>True</td>\n",
       "      <td>50000000</td>\n",
       "    </tr>\n",
       "    <tr>\n",
       "      <th>2</th>\n",
       "      <td>_R_Counter</td>\n",
       "      <td>_ReferenceDoubler</td>\n",
       "      <td>5.000000e+07</td>\n",
       "      <td>1.000</td>\n",
       "      <td>NaN</td>\n",
       "      <td>True</td>\n",
       "      <td>50000000</td>\n",
       "    </tr>\n",
       "    <tr>\n",
       "      <th>3</th>\n",
       "      <td>_ReferenceDivider</td>\n",
       "      <td>_R_Counter</td>\n",
       "      <td>5.000000e+07</td>\n",
       "      <td>2.000</td>\n",
       "      <td>NaN</td>\n",
       "      <td>True</td>\n",
       "      <td>25000000</td>\n",
       "    </tr>\n",
       "    <tr>\n",
       "      <th>4</th>\n",
       "      <td>_PhaseFrequencyDetector</td>\n",
       "      <td>_ReferenceDivider</td>\n",
       "      <td>2.500000e+07</td>\n",
       "      <td>1.000</td>\n",
       "      <td>NaN</td>\n",
       "      <td>True</td>\n",
       "      <td>25000000</td>\n",
       "    </tr>\n",
       "    <tr>\n",
       "      <th>5</th>\n",
       "      <td>_RF_N_Divider</td>\n",
       "      <td>_VCO</td>\n",
       "      <td>2.239900e+09</td>\n",
       "      <td>89.596</td>\n",
       "      <td>89.596</td>\n",
       "      <td>False</td>\n",
       "      <td>25000000</td>\n",
       "    </tr>\n",
       "    <tr>\n",
       "      <th>6</th>\n",
       "      <td>_VCO</td>\n",
       "      <td>_PhaseFrequencyDetector</td>\n",
       "      <td>2.500000e+07</td>\n",
       "      <td>89.596</td>\n",
       "      <td>NaN</td>\n",
       "      <td>False</td>\n",
       "      <td>2239900000</td>\n",
       "    </tr>\n",
       "    <tr>\n",
       "      <th>7</th>\n",
       "      <td>_RF_Divider</td>\n",
       "      <td>_VCO</td>\n",
       "      <td>2.239900e+09</td>\n",
       "      <td>64.000</td>\n",
       "      <td>NaN</td>\n",
       "      <td>True</td>\n",
       "      <td>34998438</td>\n",
       "    </tr>\n",
       "    <tr>\n",
       "      <th>8</th>\n",
       "      <td>_RF_Output</td>\n",
       "      <td>_RF_Divider</td>\n",
       "      <td>3.499844e+07</td>\n",
       "      <td>1.000</td>\n",
       "      <td>NaN</td>\n",
       "      <td>True</td>\n",
       "      <td>34998438</td>\n",
       "    </tr>\n",
       "    <tr>\n",
       "      <th>9</th>\n",
       "      <td>_AuxOutput</td>\n",
       "      <td>_VCO</td>\n",
       "      <td>2.239900e+09</td>\n",
       "      <td>1.000</td>\n",
       "      <td>NaN</td>\n",
       "      <td>True</td>\n",
       "      <td>2239900000</td>\n",
       "    </tr>\n",
       "  </tbody>\n",
       "</table>\n",
       "</div>"
      ],
      "text/plain": [
       "                      type              source_type   source_freq  my_divider  \\\n",
       "0          _ReferenceInput                      NaN           NaN         NaN   \n",
       "1        _ReferenceDoubler          _ReferenceInput  2.500000e+07       2.000   \n",
       "2               _R_Counter        _ReferenceDoubler  5.000000e+07       1.000   \n",
       "3        _ReferenceDivider               _R_Counter  5.000000e+07       2.000   \n",
       "4  _PhaseFrequencyDetector        _ReferenceDivider  2.500000e+07       1.000   \n",
       "5            _RF_N_Divider                     _VCO  2.239900e+09      89.596   \n",
       "6                     _VCO  _PhaseFrequencyDetector  2.500000e+07      89.596   \n",
       "7              _RF_Divider                     _VCO  2.239900e+09      64.000   \n",
       "8               _RF_Output              _RF_Divider  3.499844e+07       1.000   \n",
       "9               _AuxOutput                     _VCO  2.239900e+09       1.000   \n",
       "\n",
       "   divider_equivalent is_integer     my_freq  \n",
       "0                 NaN        NaN    25000000  \n",
       "1                 NaN       True    50000000  \n",
       "2                 NaN       True    50000000  \n",
       "3                 NaN       True    25000000  \n",
       "4                 NaN       True    25000000  \n",
       "5              89.596      False    25000000  \n",
       "6                 NaN      False  2239900000  \n",
       "7                 NaN       True    34998438  \n",
       "8                 NaN       True    34998438  \n",
       "9                 NaN       True  2239900000  "
      ]
     },
     "execution_count": 24,
     "metadata": {},
     "output_type": "execute_result"
    }
   ],
   "source": [
    "# adf.set_frequency(RF_out_min, channel_resolution = 100e3, rf_divider_as = None)\n",
    "adf.set_frequency(35e6, channel_resolution = 100e3, rf_divider_as = None)\n",
    "# adf.set_frequency(1.599899e9) \n",
    "# adf.set_frequency(RF_out_max, channel_resolution = 100e3, rf_divider_as = None)\n",
    "\n",
    "# adf.phaser.set_phase(90)\n",
    "\n",
    "df_dividers, df_controls = adf.current_configuration\n",
    "df_dividers"
   ]
  },
  {
   "cell_type": "code",
   "execution_count": 25,
   "metadata": {},
   "outputs": [
    {
     "data": {
      "text/html": [
       "<div>\n",
       "<style scoped>\n",
       "    .dataframe tbody tr th:only-of-type {\n",
       "        vertical-align: middle;\n",
       "    }\n",
       "\n",
       "    .dataframe tbody tr th {\n",
       "        vertical-align: top;\n",
       "    }\n",
       "\n",
       "    .dataframe thead th {\n",
       "        text-align: right;\n",
       "    }\n",
       "</style>\n",
       "<table border=\"1\" class=\"dataframe\">\n",
       "  <thead>\n",
       "    <tr style=\"text-align: right;\">\n",
       "      <th></th>\n",
       "      <th>type</th>\n",
       "      <th>source_type</th>\n",
       "      <th>source_freq</th>\n",
       "      <th>phase_adjust_enabled</th>\n",
       "      <th>phase</th>\n",
       "      <th>prescaler</th>\n",
       "      <th>my_divider</th>\n",
       "      <th>is_integer</th>\n",
       "      <th>my_freq</th>\n",
       "      <th>enabled</th>\n",
       "      <th>mode</th>\n",
       "      <th>charge_pump_current</th>\n",
       "      <th>three_state_enabled</th>\n",
       "      <th>cancelation_enabled</th>\n",
       "    </tr>\n",
       "  </thead>\n",
       "  <tbody>\n",
       "    <tr>\n",
       "      <th>0</th>\n",
       "      <td>_Phaser</td>\n",
       "      <td>_RF_N_Divider</td>\n",
       "      <td>25000000</td>\n",
       "      <td>False</td>\n",
       "      <td>1.44</td>\n",
       "      <td>NaN</td>\n",
       "      <td>NaN</td>\n",
       "      <td>NaN</td>\n",
       "      <td>NaN</td>\n",
       "      <td>NaN</td>\n",
       "      <td>NaN</td>\n",
       "      <td>NaN</td>\n",
       "      <td>NaN</td>\n",
       "      <td>NaN</td>\n",
       "    </tr>\n",
       "    <tr>\n",
       "      <th>1</th>\n",
       "      <td>_Prescaler</td>\n",
       "      <td>_VCO</td>\n",
       "      <td>2239900000</td>\n",
       "      <td>NaN</td>\n",
       "      <td>NaN</td>\n",
       "      <td>8/9</td>\n",
       "      <td>0.888889</td>\n",
       "      <td>False</td>\n",
       "      <td>1991022222</td>\n",
       "      <td>NaN</td>\n",
       "      <td>NaN</td>\n",
       "      <td>NaN</td>\n",
       "      <td>NaN</td>\n",
       "      <td>NaN</td>\n",
       "    </tr>\n",
       "    <tr>\n",
       "      <th>2</th>\n",
       "      <td>_MuxOut</td>\n",
       "      <td>THREE_STATE</td>\n",
       "      <td>None</td>\n",
       "      <td>NaN</td>\n",
       "      <td>NaN</td>\n",
       "      <td>NaN</td>\n",
       "      <td>1.000000</td>\n",
       "      <td>True</td>\n",
       "      <td>None</td>\n",
       "      <td>NaN</td>\n",
       "      <td>NaN</td>\n",
       "      <td>NaN</td>\n",
       "      <td>NaN</td>\n",
       "      <td>NaN</td>\n",
       "    </tr>\n",
       "    <tr>\n",
       "      <th>3</th>\n",
       "      <td>_BandSelectClockDivider</td>\n",
       "      <td>_ReferenceDivider</td>\n",
       "      <td>25000000</td>\n",
       "      <td>NaN</td>\n",
       "      <td>NaN</td>\n",
       "      <td>NaN</td>\n",
       "      <td>50.000000</td>\n",
       "      <td>True</td>\n",
       "      <td>500000</td>\n",
       "      <td>True</td>\n",
       "      <td>HIGH</td>\n",
       "      <td>NaN</td>\n",
       "      <td>NaN</td>\n",
       "      <td>NaN</td>\n",
       "    </tr>\n",
       "    <tr>\n",
       "      <th>4</th>\n",
       "      <td>_ClockDivider</td>\n",
       "      <td>_ReferenceDivider</td>\n",
       "      <td>25000000</td>\n",
       "      <td>NaN</td>\n",
       "      <td>NaN</td>\n",
       "      <td>NaN</td>\n",
       "      <td>150.000000</td>\n",
       "      <td>True</td>\n",
       "      <td>166667</td>\n",
       "      <td>NaN</td>\n",
       "      <td>CLOCK_DIVIDER_OFF</td>\n",
       "      <td>NaN</td>\n",
       "      <td>NaN</td>\n",
       "      <td>NaN</td>\n",
       "    </tr>\n",
       "    <tr>\n",
       "      <th>5</th>\n",
       "      <td>_NoiseControl</td>\n",
       "      <td>NaN</td>\n",
       "      <td>NaN</td>\n",
       "      <td>NaN</td>\n",
       "      <td>NaN</td>\n",
       "      <td>NaN</td>\n",
       "      <td>NaN</td>\n",
       "      <td>NaN</td>\n",
       "      <td>NaN</td>\n",
       "      <td>NaN</td>\n",
       "      <td>LOW_NOISE_MODE</td>\n",
       "      <td>NaN</td>\n",
       "      <td>NaN</td>\n",
       "      <td>NaN</td>\n",
       "    </tr>\n",
       "    <tr>\n",
       "      <th>6</th>\n",
       "      <td>_ChargePump</td>\n",
       "      <td>NaN</td>\n",
       "      <td>NaN</td>\n",
       "      <td>NaN</td>\n",
       "      <td>NaN</td>\n",
       "      <td>NaN</td>\n",
       "      <td>NaN</td>\n",
       "      <td>NaN</td>\n",
       "      <td>NaN</td>\n",
       "      <td>NaN</td>\n",
       "      <td>NaN</td>\n",
       "      <td>0.31</td>\n",
       "      <td>False</td>\n",
       "      <td>False</td>\n",
       "    </tr>\n",
       "  </tbody>\n",
       "</table>\n",
       "</div>"
      ],
      "text/plain": [
       "                      type        source_type source_freq  \\\n",
       "0                  _Phaser      _RF_N_Divider    25000000   \n",
       "1               _Prescaler               _VCO  2239900000   \n",
       "2                  _MuxOut        THREE_STATE        None   \n",
       "3  _BandSelectClockDivider  _ReferenceDivider    25000000   \n",
       "4            _ClockDivider  _ReferenceDivider    25000000   \n",
       "5            _NoiseControl                NaN         NaN   \n",
       "6              _ChargePump                NaN         NaN   \n",
       "\n",
       "  phase_adjust_enabled  phase prescaler  my_divider is_integer     my_freq  \\\n",
       "0                False   1.44       NaN         NaN        NaN         NaN   \n",
       "1                  NaN    NaN       8/9    0.888889      False  1991022222   \n",
       "2                  NaN    NaN       NaN    1.000000       True        None   \n",
       "3                  NaN    NaN       NaN   50.000000       True      500000   \n",
       "4                  NaN    NaN       NaN  150.000000       True      166667   \n",
       "5                  NaN    NaN       NaN         NaN        NaN         NaN   \n",
       "6                  NaN    NaN       NaN         NaN        NaN         NaN   \n",
       "\n",
       "  enabled               mode  charge_pump_current three_state_enabled  \\\n",
       "0     NaN                NaN                  NaN                 NaN   \n",
       "1     NaN                NaN                  NaN                 NaN   \n",
       "2     NaN                NaN                  NaN                 NaN   \n",
       "3    True               HIGH                  NaN                 NaN   \n",
       "4     NaN  CLOCK_DIVIDER_OFF                  NaN                 NaN   \n",
       "5     NaN     LOW_NOISE_MODE                  NaN                 NaN   \n",
       "6     NaN                NaN                 0.31               False   \n",
       "\n",
       "  cancelation_enabled  \n",
       "0                 NaN  \n",
       "1                 NaN  \n",
       "2                 NaN  \n",
       "3                 NaN  \n",
       "4                 NaN  \n",
       "5                 NaN  \n",
       "6               False  "
      ]
     },
     "execution_count": 25,
     "metadata": {},
     "output_type": "execute_result"
    }
   ],
   "source": [
    "df_controls"
   ]
  },
  {
   "cell_type": "markdown",
   "metadata": {},
   "source": [
    "## Find Integer N-dividers for a Frequency"
   ]
  },
  {
   "cell_type": "code",
   "execution_count": 26,
   "metadata": {},
   "outputs": [
    {
     "data": {
      "text/plain": [
       "[((2, 1, 2, 120.0, 2),\n",
       "  (25000000.0,\n",
       "   50000000,\n",
       "   50000000,\n",
       "   25000000,\n",
       "   3000000000,\n",
       "   1500000000,\n",
       "   1500000000)),\n",
       " ((2, 2, 2, 240.0, 2),\n",
       "  (25000000.0,\n",
       "   50000000,\n",
       "   25000000,\n",
       "   12500000,\n",
       "   3000000000,\n",
       "   1500000000,\n",
       "   1500000000)),\n",
       " ((2, 4, 2, 480.0, 2),\n",
       "  (25000000.0,\n",
       "   50000000,\n",
       "   12500000,\n",
       "   6250000,\n",
       "   3000000000,\n",
       "   1500000000,\n",
       "   1500000000)),\n",
       " ((2, 5, 2, 600.0, 2),\n",
       "  (25000000.0,\n",
       "   50000000,\n",
       "   10000000,\n",
       "   5000000,\n",
       "   3000000000,\n",
       "   1500000000,\n",
       "   1500000000)),\n",
       " ((2, 8, 2, 960.0, 2),\n",
       "  (25000000.0,\n",
       "   50000000,\n",
       "   6250000,\n",
       "   3125000,\n",
       "   3000000000,\n",
       "   1500000000,\n",
       "   1500000000)),\n",
       " ((2, 10, 2, 1200.0, 2),\n",
       "  (25000000.0,\n",
       "   50000000,\n",
       "   5000000,\n",
       "   2500000,\n",
       "   3000000000,\n",
       "   1500000000,\n",
       "   1500000000)),\n",
       " ((2, 16, 2, 1920.0, 2),\n",
       "  (25000000.0,\n",
       "   50000000,\n",
       "   3125000,\n",
       "   1562500,\n",
       "   3000000000,\n",
       "   1500000000,\n",
       "   1500000000)),\n",
       " ((2, 20, 2, 2400.0, 2),\n",
       "  (25000000.0,\n",
       "   50000000,\n",
       "   2500000,\n",
       "   1250000,\n",
       "   3000000000,\n",
       "   1500000000,\n",
       "   1500000000)),\n",
       " ((2, 25, 2, 3000.0, 2),\n",
       "  (25000000.0,\n",
       "   50000000,\n",
       "   2000000,\n",
       "   1000000,\n",
       "   3000000000,\n",
       "   1500000000,\n",
       "   1500000000)),\n",
       " ((2, 32, 2, 3840.0, 2),\n",
       "  (25000000.0, 50000000, 1562500, 781250, 3000000000, 1500000000, 1500000000)),\n",
       " ((2, 40, 2, 4800.0, 2),\n",
       "  (25000000.0, 50000000, 1250000, 625000, 3000000000, 1500000000, 1500000000)),\n",
       " ((2, 50, 2, 6000.0, 2),\n",
       "  (25000000.0, 50000000, 1000000, 500000, 3000000000, 1500000000, 1500000000)),\n",
       " ((2, 64, 2, 7680.0, 2),\n",
       "  (25000000.0, 50000000, 781250, 390625, 3000000000, 1500000000, 1500000000)),\n",
       " ((2, 80, 2, 9600.0, 2),\n",
       "  (25000000.0, 50000000, 625000, 312500, 3000000000, 1500000000, 1500000000)),\n",
       " ((2, 100, 2, 12000.0, 2),\n",
       "  (25000000.0, 50000000, 500000, 250000, 3000000000, 1500000000, 1500000000)),\n",
       " ((2, 125, 2, 15000.0, 2),\n",
       "  (25000000.0, 50000000, 400000, 200000, 3000000000, 1500000000, 1500000000)),\n",
       " ((2, 160, 2, 19200.0, 2),\n",
       "  (25000000.0, 50000000, 312500, 156250, 3000000000, 1500000000, 1500000000)),\n",
       " ((2, 200, 2, 24000.0, 2),\n",
       "  (25000000.0, 50000000, 250000, 125000, 3000000000, 1500000000, 1500000000)),\n",
       " ((2, 250, 2, 30000.0, 2),\n",
       "  (25000000.0, 50000000, 200000, 100000, 3000000000, 1500000000, 1500000000)),\n",
       " ((2, 320, 2, 38400.0, 2),\n",
       "  (25000000.0, 50000000, 156250, 78125, 3000000000, 1500000000, 1500000000)),\n",
       " ((2, 400, 2, 48000.0, 2),\n",
       "  (25000000.0, 50000000, 125000, 62500, 3000000000, 1500000000, 1500000000)),\n",
       " ((2, 500, 2, 60000.0, 2),\n",
       "  (25000000.0, 50000000, 100000, 50000, 3000000000, 1500000000, 1500000000))]"
      ]
     },
     "execution_count": 26,
     "metadata": {},
     "output_type": "execute_result"
    }
   ],
   "source": [
    "adf.find_integer_N_dividers(freq_desired = 1.500e9,\n",
    "                            ref_doubled_by_2 = True, ref_divided_by_2 = True, \n",
    "                            rf_divider_as = None, \n",
    "                            torance_hz = 1, freq_ref = 25e6)"
   ]
  },
  {
   "cell_type": "code",
   "execution_count": 27,
   "metadata": {},
   "outputs": [
    {
     "data": {
      "text/plain": [
       "[((2, 1, 2, 128.0, 64),\n",
       "  (25000000.0, 50000000, 50000000, 25000000, 3200000000, 50000000, 50000000)),\n",
       " ((2, 2, 2, 256.0, 64),\n",
       "  (25000000.0, 50000000, 25000000, 12500000, 3200000000, 50000000, 50000000)),\n",
       " ((2, 4, 2, 512.0, 64),\n",
       "  (25000000.0, 50000000, 12500000, 6250000, 3200000000, 50000000, 50000000)),\n",
       " ((2, 5, 2, 640.0, 64),\n",
       "  (25000000.0, 50000000, 10000000, 5000000, 3200000000, 50000000, 50000000)),\n",
       " ((2, 8, 2, 1024.0, 64),\n",
       "  (25000000.0, 50000000, 6250000, 3125000, 3200000000, 50000000, 50000000)),\n",
       " ((2, 10, 2, 1280.0, 64),\n",
       "  (25000000.0, 50000000, 5000000, 2500000, 3200000000, 50000000, 50000000)),\n",
       " ((2, 16, 2, 2048.0, 64),\n",
       "  (25000000.0, 50000000, 3125000, 1562500, 3200000000, 50000000, 50000000)),\n",
       " ((2, 20, 2, 2560.0, 64),\n",
       "  (25000000.0, 50000000, 2500000, 1250000, 3200000000, 50000000, 50000000)),\n",
       " ((2, 25, 2, 3200.0, 64),\n",
       "  (25000000.0, 50000000, 2000000, 1000000, 3200000000, 50000000, 50000000)),\n",
       " ((2, 32, 2, 4096.0, 64),\n",
       "  (25000000.0, 50000000, 1562500, 781250, 3200000000, 50000000, 50000000)),\n",
       " ((2, 40, 2, 5120.0, 64),\n",
       "  (25000000.0, 50000000, 1250000, 625000, 3200000000, 50000000, 50000000)),\n",
       " ((2, 50, 2, 6400.0, 64),\n",
       "  (25000000.0, 50000000, 1000000, 500000, 3200000000, 50000000, 50000000)),\n",
       " ((2, 64, 2, 8192.0, 64),\n",
       "  (25000000.0, 50000000, 781250, 390625, 3200000000, 50000000, 50000000)),\n",
       " ((2, 80, 2, 10240.0, 64),\n",
       "  (25000000.0, 50000000, 625000, 312500, 3200000000, 50000000, 50000000)),\n",
       " ((2, 100, 2, 12800.0, 64),\n",
       "  (25000000.0, 50000000, 500000, 250000, 3200000000, 50000000, 50000000)),\n",
       " ((2, 125, 2, 16000.0, 64),\n",
       "  (25000000.0, 50000000, 400000, 200000, 3200000000, 50000000, 50000000)),\n",
       " ((2, 160, 2, 20480.0, 64),\n",
       "  (25000000.0, 50000000, 312500, 156250, 3200000000, 50000000, 50000000)),\n",
       " ((2, 200, 2, 25600.0, 64),\n",
       "  (25000000.0, 50000000, 250000, 125000, 3200000000, 50000000, 50000000)),\n",
       " ((2, 250, 2, 32000.0, 64),\n",
       "  (25000000.0, 50000000, 200000, 100000, 3200000000, 50000000, 50000000)),\n",
       " ((2, 320, 2, 40960.0, 64),\n",
       "  (25000000.0, 50000000, 156250, 78125, 3200000000, 50000000, 50000000)),\n",
       " ((2, 400, 2, 51200.0, 64),\n",
       "  (25000000.0, 50000000, 125000, 62500, 3200000000, 50000000, 50000000)),\n",
       " ((2, 500, 2, 64000.0, 64),\n",
       "  (25000000.0, 50000000, 100000, 50000, 3200000000, 50000000, 50000000))]"
      ]
     },
     "execution_count": 27,
     "metadata": {},
     "output_type": "execute_result"
    }
   ],
   "source": [
    "adf.find_integer_N_dividers(freq_desired = 50e6,\n",
    "                            ref_doubled_by_2 = True, ref_divided_by_2 = True, \n",
    "                            rf_divider_as = None, \n",
    "                            torance_hz = 1, freq_ref = 25e6)"
   ]
  },
  {
   "cell_type": "markdown",
   "metadata": {},
   "source": [
    "## Member functions test"
   ]
  },
  {
   "cell_type": "code",
   "execution_count": 28,
   "metadata": {},
   "outputs": [],
   "source": [
    "# for f in dir(cls):\n",
    "#     if not f.startswith('_'):\n",
    "#         print('adf.{}()'.format(f))"
   ]
  },
  {
   "cell_type": "code",
   "execution_count": 29,
   "metadata": {},
   "outputs": [],
   "source": [
    "adf.init()"
   ]
  },
  {
   "cell_type": "code",
   "execution_count": 30,
   "metadata": {},
   "outputs": [],
   "source": [
    "adf.start()"
   ]
  },
  {
   "cell_type": "code",
   "execution_count": 31,
   "metadata": {},
   "outputs": [],
   "source": [
    "adf.reset() "
   ]
  },
  {
   "cell_type": "code",
   "execution_count": 32,
   "metadata": {},
   "outputs": [],
   "source": [
    "adf.apply_signal(freq = 1.5002e9)"
   ]
  },
  {
   "cell_type": "code",
   "execution_count": 33,
   "metadata": {},
   "outputs": [
    {
     "data": {
      "text/html": [
       "<div>\n",
       "<style scoped>\n",
       "    .dataframe tbody tr th:only-of-type {\n",
       "        vertical-align: middle;\n",
       "    }\n",
       "\n",
       "    .dataframe tbody tr th {\n",
       "        vertical-align: top;\n",
       "    }\n",
       "\n",
       "    .dataframe thead th {\n",
       "        text-align: right;\n",
       "    }\n",
       "</style>\n",
       "<table border=\"1\" class=\"dataframe\">\n",
       "  <thead>\n",
       "    <tr style=\"text-align: right;\">\n",
       "      <th></th>\n",
       "      <th>type</th>\n",
       "      <th>source_type</th>\n",
       "      <th>source_freq</th>\n",
       "      <th>my_divider</th>\n",
       "      <th>divider_equivalent</th>\n",
       "      <th>is_integer</th>\n",
       "      <th>my_freq</th>\n",
       "    </tr>\n",
       "  </thead>\n",
       "  <tbody>\n",
       "    <tr>\n",
       "      <th>0</th>\n",
       "      <td>_ReferenceInput</td>\n",
       "      <td>NaN</td>\n",
       "      <td>NaN</td>\n",
       "      <td>NaN</td>\n",
       "      <td>NaN</td>\n",
       "      <td>NaN</td>\n",
       "      <td>25000000</td>\n",
       "    </tr>\n",
       "    <tr>\n",
       "      <th>1</th>\n",
       "      <td>_ReferenceDoubler</td>\n",
       "      <td>_ReferenceInput</td>\n",
       "      <td>2.500000e+07</td>\n",
       "      <td>2.000000</td>\n",
       "      <td>NaN</td>\n",
       "      <td>True</td>\n",
       "      <td>50000000</td>\n",
       "    </tr>\n",
       "    <tr>\n",
       "      <th>2</th>\n",
       "      <td>_R_Counter</td>\n",
       "      <td>_ReferenceDoubler</td>\n",
       "      <td>5.000000e+07</td>\n",
       "      <td>1.000000</td>\n",
       "      <td>NaN</td>\n",
       "      <td>True</td>\n",
       "      <td>50000000</td>\n",
       "    </tr>\n",
       "    <tr>\n",
       "      <th>3</th>\n",
       "      <td>_ReferenceDivider</td>\n",
       "      <td>_R_Counter</td>\n",
       "      <td>5.000000e+07</td>\n",
       "      <td>2.000000</td>\n",
       "      <td>NaN</td>\n",
       "      <td>True</td>\n",
       "      <td>25000000</td>\n",
       "    </tr>\n",
       "    <tr>\n",
       "      <th>4</th>\n",
       "      <td>_PhaseFrequencyDetector</td>\n",
       "      <td>_ReferenceDivider</td>\n",
       "      <td>2.500000e+07</td>\n",
       "      <td>1.000000</td>\n",
       "      <td>NaN</td>\n",
       "      <td>True</td>\n",
       "      <td>25000000</td>\n",
       "    </tr>\n",
       "    <tr>\n",
       "      <th>5</th>\n",
       "      <td>_RF_N_Divider</td>\n",
       "      <td>_VCO</td>\n",
       "      <td>3.000397e+09</td>\n",
       "      <td>120.015873</td>\n",
       "      <td>120.015873</td>\n",
       "      <td>False</td>\n",
       "      <td>25000000</td>\n",
       "    </tr>\n",
       "    <tr>\n",
       "      <th>6</th>\n",
       "      <td>_VCO</td>\n",
       "      <td>_PhaseFrequencyDetector</td>\n",
       "      <td>2.500000e+07</td>\n",
       "      <td>120.015873</td>\n",
       "      <td>NaN</td>\n",
       "      <td>False</td>\n",
       "      <td>3000396825</td>\n",
       "    </tr>\n",
       "    <tr>\n",
       "      <th>7</th>\n",
       "      <td>_RF_Divider</td>\n",
       "      <td>_VCO</td>\n",
       "      <td>3.000397e+09</td>\n",
       "      <td>2.000000</td>\n",
       "      <td>NaN</td>\n",
       "      <td>True</td>\n",
       "      <td>1500198412</td>\n",
       "    </tr>\n",
       "    <tr>\n",
       "      <th>8</th>\n",
       "      <td>_RF_Output</td>\n",
       "      <td>_RF_Divider</td>\n",
       "      <td>1.500198e+09</td>\n",
       "      <td>1.000000</td>\n",
       "      <td>NaN</td>\n",
       "      <td>True</td>\n",
       "      <td>1500198412</td>\n",
       "    </tr>\n",
       "    <tr>\n",
       "      <th>9</th>\n",
       "      <td>_AuxOutput</td>\n",
       "      <td>_VCO</td>\n",
       "      <td>3.000397e+09</td>\n",
       "      <td>1.000000</td>\n",
       "      <td>NaN</td>\n",
       "      <td>True</td>\n",
       "      <td>3000396825</td>\n",
       "    </tr>\n",
       "  </tbody>\n",
       "</table>\n",
       "</div>"
      ],
      "text/plain": [
       "                      type              source_type   source_freq  my_divider  \\\n",
       "0          _ReferenceInput                      NaN           NaN         NaN   \n",
       "1        _ReferenceDoubler          _ReferenceInput  2.500000e+07    2.000000   \n",
       "2               _R_Counter        _ReferenceDoubler  5.000000e+07    1.000000   \n",
       "3        _ReferenceDivider               _R_Counter  5.000000e+07    2.000000   \n",
       "4  _PhaseFrequencyDetector        _ReferenceDivider  2.500000e+07    1.000000   \n",
       "5            _RF_N_Divider                     _VCO  3.000397e+09  120.015873   \n",
       "6                     _VCO  _PhaseFrequencyDetector  2.500000e+07  120.015873   \n",
       "7              _RF_Divider                     _VCO  3.000397e+09    2.000000   \n",
       "8               _RF_Output              _RF_Divider  1.500198e+09    1.000000   \n",
       "9               _AuxOutput                     _VCO  3.000397e+09    1.000000   \n",
       "\n",
       "   divider_equivalent is_integer     my_freq  \n",
       "0                 NaN        NaN    25000000  \n",
       "1                 NaN       True    50000000  \n",
       "2                 NaN       True    50000000  \n",
       "3                 NaN       True    25000000  \n",
       "4                 NaN       True    25000000  \n",
       "5          120.015873      False    25000000  \n",
       "6                 NaN      False  3000396825  \n",
       "7                 NaN       True  1500198412  \n",
       "8                 NaN       True  1500198412  \n",
       "9                 NaN       True  3000396825  "
      ]
     },
     "execution_count": 33,
     "metadata": {},
     "output_type": "execute_result"
    }
   ],
   "source": [
    "df_dividers, df_controls = adf.current_configuration\n",
    "df_dividers"
   ]
  },
  {
   "cell_type": "code",
   "execution_count": 34,
   "metadata": {},
   "outputs": [
    {
     "data": {
      "text/html": [
       "<div>\n",
       "<style scoped>\n",
       "    .dataframe tbody tr th:only-of-type {\n",
       "        vertical-align: middle;\n",
       "    }\n",
       "\n",
       "    .dataframe tbody tr th {\n",
       "        vertical-align: top;\n",
       "    }\n",
       "\n",
       "    .dataframe thead th {\n",
       "        text-align: right;\n",
       "    }\n",
       "</style>\n",
       "<table border=\"1\" class=\"dataframe\">\n",
       "  <thead>\n",
       "    <tr style=\"text-align: right;\">\n",
       "      <th></th>\n",
       "      <th>type</th>\n",
       "      <th>source_type</th>\n",
       "      <th>source_freq</th>\n",
       "      <th>phase_adjust_enabled</th>\n",
       "      <th>phase</th>\n",
       "      <th>prescaler</th>\n",
       "      <th>my_divider</th>\n",
       "      <th>is_integer</th>\n",
       "      <th>my_freq</th>\n",
       "      <th>enabled</th>\n",
       "      <th>mode</th>\n",
       "      <th>charge_pump_current</th>\n",
       "      <th>three_state_enabled</th>\n",
       "      <th>cancelation_enabled</th>\n",
       "    </tr>\n",
       "  </thead>\n",
       "  <tbody>\n",
       "    <tr>\n",
       "      <th>0</th>\n",
       "      <td>_Phaser</td>\n",
       "      <td>_RF_N_Divider</td>\n",
       "      <td>25000000</td>\n",
       "      <td>False</td>\n",
       "      <td>0.0</td>\n",
       "      <td>NaN</td>\n",
       "      <td>NaN</td>\n",
       "      <td>NaN</td>\n",
       "      <td>NaN</td>\n",
       "      <td>NaN</td>\n",
       "      <td>NaN</td>\n",
       "      <td>NaN</td>\n",
       "      <td>NaN</td>\n",
       "      <td>NaN</td>\n",
       "    </tr>\n",
       "    <tr>\n",
       "      <th>1</th>\n",
       "      <td>_Prescaler</td>\n",
       "      <td>_VCO</td>\n",
       "      <td>3000396825</td>\n",
       "      <td>NaN</td>\n",
       "      <td>NaN</td>\n",
       "      <td>8/9</td>\n",
       "      <td>0.888889</td>\n",
       "      <td>False</td>\n",
       "      <td>2667019400</td>\n",
       "      <td>NaN</td>\n",
       "      <td>NaN</td>\n",
       "      <td>NaN</td>\n",
       "      <td>NaN</td>\n",
       "      <td>NaN</td>\n",
       "    </tr>\n",
       "    <tr>\n",
       "      <th>2</th>\n",
       "      <td>_MuxOut</td>\n",
       "      <td>THREE_STATE</td>\n",
       "      <td>None</td>\n",
       "      <td>NaN</td>\n",
       "      <td>NaN</td>\n",
       "      <td>NaN</td>\n",
       "      <td>1.000000</td>\n",
       "      <td>True</td>\n",
       "      <td>None</td>\n",
       "      <td>NaN</td>\n",
       "      <td>NaN</td>\n",
       "      <td>NaN</td>\n",
       "      <td>NaN</td>\n",
       "      <td>NaN</td>\n",
       "    </tr>\n",
       "    <tr>\n",
       "      <th>3</th>\n",
       "      <td>_BandSelectClockDivider</td>\n",
       "      <td>_ReferenceDivider</td>\n",
       "      <td>25000000</td>\n",
       "      <td>NaN</td>\n",
       "      <td>NaN</td>\n",
       "      <td>NaN</td>\n",
       "      <td>50.000000</td>\n",
       "      <td>True</td>\n",
       "      <td>500000</td>\n",
       "      <td>True</td>\n",
       "      <td>HIGH</td>\n",
       "      <td>NaN</td>\n",
       "      <td>NaN</td>\n",
       "      <td>NaN</td>\n",
       "    </tr>\n",
       "    <tr>\n",
       "      <th>4</th>\n",
       "      <td>_ClockDivider</td>\n",
       "      <td>_ReferenceDivider</td>\n",
       "      <td>25000000</td>\n",
       "      <td>NaN</td>\n",
       "      <td>NaN</td>\n",
       "      <td>NaN</td>\n",
       "      <td>150.000000</td>\n",
       "      <td>True</td>\n",
       "      <td>166667</td>\n",
       "      <td>NaN</td>\n",
       "      <td>CLOCK_DIVIDER_OFF</td>\n",
       "      <td>NaN</td>\n",
       "      <td>NaN</td>\n",
       "      <td>NaN</td>\n",
       "    </tr>\n",
       "    <tr>\n",
       "      <th>5</th>\n",
       "      <td>_NoiseControl</td>\n",
       "      <td>NaN</td>\n",
       "      <td>NaN</td>\n",
       "      <td>NaN</td>\n",
       "      <td>NaN</td>\n",
       "      <td>NaN</td>\n",
       "      <td>NaN</td>\n",
       "      <td>NaN</td>\n",
       "      <td>NaN</td>\n",
       "      <td>NaN</td>\n",
       "      <td>LOW_NOISE_MODE</td>\n",
       "      <td>NaN</td>\n",
       "      <td>NaN</td>\n",
       "      <td>NaN</td>\n",
       "    </tr>\n",
       "    <tr>\n",
       "      <th>6</th>\n",
       "      <td>_ChargePump</td>\n",
       "      <td>NaN</td>\n",
       "      <td>NaN</td>\n",
       "      <td>NaN</td>\n",
       "      <td>NaN</td>\n",
       "      <td>NaN</td>\n",
       "      <td>NaN</td>\n",
       "      <td>NaN</td>\n",
       "      <td>NaN</td>\n",
       "      <td>NaN</td>\n",
       "      <td>NaN</td>\n",
       "      <td>0.31</td>\n",
       "      <td>False</td>\n",
       "      <td>False</td>\n",
       "    </tr>\n",
       "  </tbody>\n",
       "</table>\n",
       "</div>"
      ],
      "text/plain": [
       "                      type        source_type source_freq  \\\n",
       "0                  _Phaser      _RF_N_Divider    25000000   \n",
       "1               _Prescaler               _VCO  3000396825   \n",
       "2                  _MuxOut        THREE_STATE        None   \n",
       "3  _BandSelectClockDivider  _ReferenceDivider    25000000   \n",
       "4            _ClockDivider  _ReferenceDivider    25000000   \n",
       "5            _NoiseControl                NaN         NaN   \n",
       "6              _ChargePump                NaN         NaN   \n",
       "\n",
       "  phase_adjust_enabled  phase prescaler  my_divider is_integer     my_freq  \\\n",
       "0                False    0.0       NaN         NaN        NaN         NaN   \n",
       "1                  NaN    NaN       8/9    0.888889      False  2667019400   \n",
       "2                  NaN    NaN       NaN    1.000000       True        None   \n",
       "3                  NaN    NaN       NaN   50.000000       True      500000   \n",
       "4                  NaN    NaN       NaN  150.000000       True      166667   \n",
       "5                  NaN    NaN       NaN         NaN        NaN         NaN   \n",
       "6                  NaN    NaN       NaN         NaN        NaN         NaN   \n",
       "\n",
       "  enabled               mode  charge_pump_current three_state_enabled  \\\n",
       "0     NaN                NaN                  NaN                 NaN   \n",
       "1     NaN                NaN                  NaN                 NaN   \n",
       "2     NaN                NaN                  NaN                 NaN   \n",
       "3    True               HIGH                  NaN                 NaN   \n",
       "4     NaN  CLOCK_DIVIDER_OFF                  NaN                 NaN   \n",
       "5     NaN     LOW_NOISE_MODE                  NaN                 NaN   \n",
       "6     NaN                NaN                 0.31               False   \n",
       "\n",
       "  cancelation_enabled  \n",
       "0                 NaN  \n",
       "1                 NaN  \n",
       "2                 NaN  \n",
       "3                 NaN  \n",
       "4                 NaN  \n",
       "5                 NaN  \n",
       "6               False  "
      ]
     },
     "execution_count": 34,
     "metadata": {},
     "output_type": "execute_result"
    }
   ],
   "source": [
    "df_controls"
   ]
  },
  {
   "cell_type": "code",
   "execution_count": 35,
   "metadata": {},
   "outputs": [
    {
     "data": {
      "text/plain": [
       "{'d_ref_doubler': 2,\n",
       " 'd_r_counter': 1,\n",
       " 'd_ref_divider': 2,\n",
       " 'd_rf_n_divider': 120.01587301587301,\n",
       " 'd_rf_divider': 2}"
      ]
     },
     "execution_count": 35,
     "metadata": {},
     "output_type": "execute_result"
    }
   ],
   "source": [
    "adf.current_dividers"
   ]
  },
  {
   "cell_type": "code",
   "execution_count": 36,
   "metadata": {},
   "outputs": [
    {
     "data": {
      "text/plain": [
       "1500198412"
      ]
     },
     "execution_count": 36,
     "metadata": {},
     "output_type": "execute_result"
    }
   ],
   "source": [
    "adf.current_frequency"
   ]
  },
  {
   "cell_type": "code",
   "execution_count": 37,
   "metadata": {},
   "outputs": [
    {
     "data": {
      "text/plain": [
       "0.0"
      ]
     },
     "execution_count": 37,
     "metadata": {},
     "output_type": "execute_result"
    }
   ],
   "source": [
    "adf.current_phase"
   ]
  },
  {
   "cell_type": "code",
   "execution_count": 38,
   "metadata": {},
   "outputs": [],
   "source": [
    "adf.enable(False)"
   ]
  },
  {
   "cell_type": "code",
   "execution_count": 39,
   "metadata": {},
   "outputs": [],
   "source": [
    "adf.enable(True)"
   ]
  },
  {
   "cell_type": "code",
   "execution_count": 40,
   "metadata": {},
   "outputs": [],
   "source": [
    "adf.enable_output(False)"
   ]
  },
  {
   "cell_type": "code",
   "execution_count": 41,
   "metadata": {},
   "outputs": [],
   "source": [
    "adf.enable_output(True)"
   ]
  },
  {
   "cell_type": "code",
   "execution_count": 42,
   "metadata": {},
   "outputs": [],
   "source": [
    "# adf.enable_output_channel(0)"
   ]
  },
  {
   "cell_type": "code",
   "execution_count": 43,
   "metadata": {},
   "outputs": [
    {
     "data": {
      "text/plain": [
       "True"
      ]
     },
     "execution_count": 43,
     "metadata": {},
     "output_type": "execute_result"
    }
   ],
   "source": [
    "adf.enabled"
   ]
  },
  {
   "cell_type": "code",
   "execution_count": 44,
   "metadata": {},
   "outputs": [
    {
     "data": {
      "text/plain": [
       "25000000"
      ]
     },
     "execution_count": 44,
     "metadata": {},
     "output_type": "execute_result"
    }
   ],
   "source": [
    "adf.freq_pfd"
   ]
  },
  {
   "cell_type": "code",
   "execution_count": 45,
   "metadata": {},
   "outputs": [
    {
     "data": {
      "text/plain": [
       "6105.006105006105"
      ]
     },
     "execution_count": 45,
     "metadata": {},
     "output_type": "execute_result"
    }
   ],
   "source": [
    "adf.freq_resolution"
   ]
  },
  {
   "cell_type": "code",
   "execution_count": 46,
   "metadata": {},
   "outputs": [
    {
     "data": {
      "text/plain": [
       "0.08791208791208792"
      ]
     },
     "execution_count": 46,
     "metadata": {},
     "output_type": "execute_result"
    }
   ],
   "source": [
    "adf.phase_resolution"
   ]
  },
  {
   "cell_type": "code",
   "execution_count": 47,
   "metadata": {},
   "outputs": [
    {
     "data": {
      "text/plain": [
       "True"
      ]
     },
     "execution_count": 47,
     "metadata": {},
     "output_type": "execute_result"
    }
   ],
   "source": [
    "adf.is_virtual_device"
   ]
  },
  {
   "cell_type": "code",
   "execution_count": 48,
   "metadata": {},
   "outputs": [],
   "source": [
    "adf.load_registers(enumerate(ad_1500M))\n",
    "adf.write_all_registers()"
   ]
  },
  {
   "cell_type": "code",
   "execution_count": 49,
   "metadata": {},
   "outputs": [
    {
     "data": {
      "text/plain": [
       "False"
      ]
     },
     "execution_count": 49,
     "metadata": {},
     "output_type": "execute_result"
    }
   ],
   "source": [
    "adf.power_downed"
   ]
  },
  {
   "cell_type": "code",
   "execution_count": 50,
   "metadata": {},
   "outputs": [],
   "source": [
    "# adf.read_all_registers()"
   ]
  },
  {
   "cell_type": "code",
   "execution_count": 51,
   "metadata": {},
   "outputs": [
    {
     "data": {
      "text/plain": [
       "[(0, 3932160),\n",
       " (1, 134252497),\n",
       " (2, 50348482),\n",
       " (3, 14943411),\n",
       " (4, 9642532),\n",
       " (5, 5767173)]"
      ]
     },
     "execution_count": 51,
     "metadata": {},
     "output_type": "execute_result"
    }
   ],
   "source": [
    "adf.registers_values"
   ]
  },
  {
   "cell_type": "code",
   "execution_count": 52,
   "metadata": {},
   "outputs": [],
   "source": [
    "# adf.select_freq_source(0)"
   ]
  },
  {
   "cell_type": "code",
   "execution_count": 53,
   "metadata": {},
   "outputs": [],
   "source": [
    "# adf.select_phase_source(0)"
   ]
  },
  {
   "cell_type": "code",
   "execution_count": 54,
   "metadata": {},
   "outputs": [],
   "source": [
    "adf.set_dividers(2, 1, 2, 120, 2)"
   ]
  },
  {
   "cell_type": "code",
   "execution_count": 55,
   "metadata": {},
   "outputs": [],
   "source": [
    "adf.set_frequency(1.5002e9)"
   ]
  },
  {
   "cell_type": "code",
   "execution_count": 56,
   "metadata": {},
   "outputs": [],
   "source": [
    "adf.set_phase(0)"
   ]
  },
  {
   "cell_type": "code",
   "execution_count": 57,
   "metadata": {},
   "outputs": [],
   "source": [
    "adf.update()"
   ]
  },
  {
   "cell_type": "code",
   "execution_count": 58,
   "metadata": {},
   "outputs": [
    {
     "data": {
      "text/plain": [
       "OrderedDict([('mclk',\n",
       "              OrderedDict([('type', '_ReferenceInput'),\n",
       "                           ('my_freq', 25000000)])),\n",
       "             ('ref_doubler',\n",
       "              OrderedDict([('type', '_ReferenceDoubler'),\n",
       "                           ('source_type', '_ReferenceInput'),\n",
       "                           ('source_freq', 25000000),\n",
       "                           ('my_divider', 2),\n",
       "                           ('is_integer', True),\n",
       "                           ('my_freq', 50000000)])),\n",
       "             ('r_counter',\n",
       "              OrderedDict([('type', '_R_Counter'),\n",
       "                           ('source_type', '_ReferenceDoubler'),\n",
       "                           ('source_freq', 50000000),\n",
       "                           ('my_divider', 1),\n",
       "                           ('is_integer', True),\n",
       "                           ('my_freq', 50000000)])),\n",
       "             ('ref_divider',\n",
       "              OrderedDict([('type', '_ReferenceDivider'),\n",
       "                           ('source_type', '_R_Counter'),\n",
       "                           ('source_freq', 50000000),\n",
       "                           ('my_divider', 2),\n",
       "                           ('is_integer', True),\n",
       "                           ('my_freq', 25000000)])),\n",
       "             ('phase_frequency_detector',\n",
       "              OrderedDict([('type', '_PhaseFrequencyDetector'),\n",
       "                           ('source_type', '_ReferenceDivider'),\n",
       "                           ('source_freq', 25000000),\n",
       "                           ('my_divider', 1),\n",
       "                           ('is_integer', True),\n",
       "                           ('my_freq', 25000000)])),\n",
       "             ('rf_n_divider',\n",
       "              OrderedDict([('type', '_RF_N_Divider'),\n",
       "                           ('source_type', '_VCO'),\n",
       "                           ('source_freq', 3000396825),\n",
       "                           ('my_divider', 120.01587301587301),\n",
       "                           ('divider_equivalent', 120.01587301587301),\n",
       "                           ('is_integer', False),\n",
       "                           ('my_freq', 25000000)])),\n",
       "             ('vco',\n",
       "              OrderedDict([('type', '_VCO'),\n",
       "                           ('source_type', '_PhaseFrequencyDetector'),\n",
       "                           ('source_freq', 25000000),\n",
       "                           ('my_divider', 120.01587301587301),\n",
       "                           ('is_integer', False),\n",
       "                           ('my_freq', 3000396825)])),\n",
       "             ('rf_divider',\n",
       "              OrderedDict([('type', '_RF_Divider'),\n",
       "                           ('source_type', '_VCO'),\n",
       "                           ('source_freq', 3000396825),\n",
       "                           ('my_divider', 2),\n",
       "                           ('is_integer', True),\n",
       "                           ('my_freq', 1500198412)])),\n",
       "             ('rf_out',\n",
       "              OrderedDict([('type', '_RF_Output'),\n",
       "                           ('source_type', '_RF_Divider'),\n",
       "                           ('source_freq', 1500198412),\n",
       "                           ('my_divider', 1),\n",
       "                           ('is_integer', True),\n",
       "                           ('my_freq', 1500198412)])),\n",
       "             ('auxout',\n",
       "              OrderedDict([('type', '_AuxOutput'),\n",
       "                           ('source_type', '_VCO'),\n",
       "                           ('source_freq', 3000396825),\n",
       "                           ('my_divider', 1),\n",
       "                           ('is_integer', True),\n",
       "                           ('my_freq', 3000396825)]))])"
      ]
     },
     "execution_count": 58,
     "metadata": {},
     "output_type": "execute_result"
    }
   ],
   "source": [
    "adf.status"
   ]
  },
  {
   "cell_type": "code",
   "execution_count": 59,
   "metadata": {},
   "outputs": [
    {
     "name": "stdout",
     "output_type": "stream",
     "text": [
      "\n",
      "<< REGISTER_0 >>  :  ('0x3c0208', '0b1111000000001000001000')\n",
      "[ Reserved_31 ] :  0\n",
      "[ INT ]         :  120\n",
      "[ FRAC ]        :  65\n",
      "[ Index ]       :  0\n",
      "\n",
      "<< REGISTER_1 >>      :  ('0x8007ff9', '0b1000000000000111111111111001')\n",
      "[ Reserved_29 ]     :  0\n",
      "[ Phase_Adjust ]    :  0\n",
      "[ Prescaler_Value ] :  1\n",
      "[ Phase_Value ]     :  0\n",
      "[ MOD ]             :  4095\n",
      "[ Index ]           :  1\n",
      "\n",
      "<< REGISTER_2 >>                   :  ('0x3004042', '0b11000000000100000001000010')\n",
      "[ Reserved_31 ]                  :  0\n",
      "[ Low_Noise_and_Low_Spur_Modes ] :  0\n",
      "[ MUXOUT ]                       :  0\n",
      "[ Reference_Doubler ]            :  1\n",
      "[ RDIV2 ]                        :  1\n",
      "[ R_Counter ]                    :  1\n",
      "[ Double_Buffer ]                :  0\n",
      "[ Charge_Pump_Current_Setting ]  :  0\n",
      "[ LDF ]                          :  0\n",
      "[ LDP ]                          :  0\n",
      "[ Phase_Detector_Polarity ]      :  1\n",
      "[ Power_Down ]                   :  0\n",
      "[ Charge_Pump_Three_State ]      :  0\n",
      "[ Counter_Reset ]                :  0\n",
      "[ Index ]                        :  2\n",
      "\n",
      "<< REGISTER_3 >>             :  ('0x8404b3', '0b100001000000010010110011')\n",
      "[ Reserved_24 ]            :  0\n",
      "[ Band_Select_Clock_Mode ] :  1\n",
      "[ ABP ]                    :  0\n",
      "[ Charge_Cancelation ]     :  0\n",
      "[ Reserved_19 ]            :  0\n",
      "[ CSR_Enable ]             :  1\n",
      "[ Reserved_17 ]            :  0\n",
      "[ Clock_Divider_Mode ]     :  0\n",
      "[ Clock_Divider_Value ]    :  150\n",
      "[ Index ]                  :  3\n",
      "\n",
      "<< REGISTER_4 >>                      :  ('0x932224', '0b100100110010001000100100')\n",
      "[ Reserved_24 ]                     :  0\n",
      "[ Feedback_Select ]                 :  1\n",
      "[ RF_Divider_Select ]               :  1\n",
      "[ Band_Select_Clock_Divider_Value ] :  50\n",
      "[ VCO_Power-Down ]                  :  0\n",
      "[ MTLD ]                            :  0\n",
      "[ AUX_Output_Select ]               :  1\n",
      "[ AUX_Output_Enable ]               :  0\n",
      "[ AUX_Output_Power ]                :  0\n",
      "[ RF_Output_Enable ]                :  1\n",
      "[ Output_Power ]                    :  0\n",
      "[ Index ]                           :  4\n",
      "\n",
      "<< REGISTER_5 >>                :  ('0x580005', '0b10110000000000000000101')\n",
      "[ Reserved_24 ]               :  0\n",
      "[ Lock_Detect_Pin_Operation ] :  1\n",
      "[ Reserved_21 ]               :  0\n",
      "[ Reserved_19 ]               :  3\n",
      "[ Reserved_3 ]                :  0\n",
      "[ Index ]                     :  5\n"
     ]
    }
   ],
   "source": [
    "adf.print()"
   ]
  },
  {
   "cell_type": "code",
   "execution_count": 60,
   "metadata": {},
   "outputs": [],
   "source": [
    "adf.pause()"
   ]
  },
  {
   "cell_type": "code",
   "execution_count": 61,
   "metadata": {},
   "outputs": [],
   "source": [
    "adf.resume()"
   ]
  },
  {
   "cell_type": "code",
   "execution_count": 62,
   "metadata": {},
   "outputs": [],
   "source": [
    "adf.stop()"
   ]
  },
  {
   "cell_type": "code",
   "execution_count": 63,
   "metadata": {},
   "outputs": [],
   "source": [
    "adf.close()"
   ]
  }
 ],
 "metadata": {
  "kernelspec": {
   "display_name": "Python 3",
   "language": "python",
   "name": "python3"
  },
  "language_info": {
   "codemirror_mode": {
    "name": "ipython",
    "version": 3
   },
   "file_extension": ".py",
   "mimetype": "text/x-python",
   "name": "python",
   "nbconvert_exporter": "python",
   "pygments_lexer": "ipython3",
   "version": "3.6.10"
  }
 },
 "nbformat": 4,
 "nbformat_minor": 2
}
