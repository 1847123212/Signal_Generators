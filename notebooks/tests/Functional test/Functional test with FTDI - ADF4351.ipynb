{
 "cells": [
  {
   "cell_type": "markdown",
   "metadata": {},
   "source": [
    "# Functional test with FTDI - ADF4351\n",
    "- https://www.analog.com/media/en/technical-documentation/data-sheets/ADF4351.pdf"
   ]
  },
  {
   "cell_type": "code",
   "execution_count": 1,
   "metadata": {},
   "outputs": [],
   "source": [
    "import os, sys\n",
    "\n",
    "def gen_relative_path(target_path): \n",
    "    \n",
    "    def del_same_parents(target_path, current_path):\n",
    "        if len(target_path) * len(current_path) > 0:\n",
    "            if target_path[0] == current_path[0]:\n",
    "                target_path.pop(0)\n",
    "                current_path.pop(0)\n",
    "                del_same_parents(target_path, current_path)\n",
    "            \n",
    "    current_path = os.getcwd().replace('\\\\', '/').split('/')\n",
    "    target_path = target_path.replace('\\\\', '/').split('/')\n",
    "    del_same_parents(target_path, current_path)\n",
    "    \n",
    "    return ['..'] * len(current_path) + target_path\n",
    "\n",
    "\n",
    "def append_source_relative_path(source_relative_path):\n",
    "    sys.path.append(os.sep.join(source_relative_path))"
   ]
  },
  {
   "cell_type": "code",
   "execution_count": 2,
   "metadata": {},
   "outputs": [],
   "source": [
    "# paths = [' ']\n",
    "# paths = [gen_relative_path(p) for p in paths]\n",
    "# print(paths)"
   ]
  },
  {
   "cell_type": "code",
   "execution_count": 3,
   "metadata": {},
   "outputs": [],
   "source": [
    "paths = [['..', '..', '..', '..', '..', '..', '..', '已完成', 'Bridges', 'bitbucket', 'github', 'codes'], \n",
    "         ['..', '..', '..', '..', '..', '..', 'Utilities', 'bitbucket', 'github', 'codes'],\n",
    "         ['..', '..', '..', 'codes']]\n",
    "\n",
    "for path in paths:\n",
    "    append_source_relative_path(path)"
   ]
  },
  {
   "cell_type": "code",
   "execution_count": 4,
   "metadata": {},
   "outputs": [
    {
     "name": "stdout",
     "output_type": "stream",
     "text": [
      "Populating the interactive namespace from numpy and matplotlib\n"
     ]
    }
   ],
   "source": [
    "%pylab inline\n",
    "\n",
    "from utilities.adapters import peripherals\n",
    "from signal_generators.adf435x import ADF4351 \n",
    "from utilities.shift_register import ShiftRegister"
   ]
  },
  {
   "cell_type": "markdown",
   "metadata": {},
   "source": [
    "## Debug mode?"
   ]
  },
  {
   "cell_type": "code",
   "execution_count": 5,
   "metadata": {
    "scrolled": false
   },
   "outputs": [],
   "source": [
    "cls = ADF4351 \n",
    "\n",
    "cls.DEBUG_MODE_SHOW_BUS_DATA = False         # whether to show bus data. \n",
    "cls.DEBUG_MODE_PRINT_REGISTER = False        # whether to print registers. "
   ]
  },
  {
   "cell_type": "markdown",
   "metadata": {},
   "source": [
    "## Generators and Modulators"
   ]
  },
  {
   "cell_type": "code",
   "execution_count": 6,
   "metadata": {},
   "outputs": [
    {
     "name": "stdout",
     "output_type": "stream",
     "text": [
      "[3932160, 134252497, 50352066, 6292659, 10256444, 5767173]\n",
      "[5767168, 134610937, 50352066, 6292659, 9208356, 5767173]\n"
     ]
    }
   ],
   "source": [
    "with_hardware_device = True\n",
    "\n",
    "if with_hardware_device:\n",
    "    _clk = peripherals.Pin.get_Ftdi_pin(pin_id = 4)\n",
    "    _data = peripherals.Pin.get_Ftdi_pin(pin_id = 1)\n",
    "    _ss = peripherals.Pin.get_Ftdi_pin(pin_id = 3)\n",
    "    # _ss2 = peripherals.Pin.get_Ftdi_pin(pin_id = 0)\n",
    "\n",
    "    _spi = ShiftRegister(stb_pin = _ss, clk_pin = _clk, data_pin = _data, polarity = 0)\n",
    "else:\n",
    "    _spi = _ss = None  # using None for testing without actual hardware device.\n",
    "\n",
    "adf = cls(_spi, _ss)"
   ]
  },
  {
   "cell_type": "code",
   "execution_count": null,
   "metadata": {},
   "outputs": [],
   "source": [
    "set_1 = [3932160, 134252497, 50352066, 6292659, 10256444, 5767173]\n",
    "set_2 = [5767168, 134610937, 50352066, 6292659, 9208356, 5767173]"
   ]
  },
  {
   "cell_type": "code",
   "execution_count": 13,
   "metadata": {},
   "outputs": [],
   "source": [
    "adf.map.load_values(enumerate([3932160, 134252497, 50352066, 6292659, 10256444, 5767173]))\n",
    "adf.write_all_registers()\n",
    "# adf.print()"
   ]
  },
  {
   "cell_type": "code",
   "execution_count": 32,
   "metadata": {},
   "outputs": [
    {
     "name": "stdout",
     "output_type": "stream",
     "text": [
      "\n",
      "<< REGISTER_1 >>      :  ('0x805fff9', '0b1000000001011111111111111001')\n",
      "[ Reserved_29 ]     :  0\n",
      "[ Phase_Adjust ]    :  0\n",
      "[ Prescaler_Value ] :  1\n",
      "[ Phase_Value ]     :  11\n",
      "[ MOD ]             :  4095\n",
      "[ Index ]           :  1\n"
     ]
    },
    {
     "data": {
      "text/plain": [
       "15"
      ]
     },
     "execution_count": 32,
     "metadata": {},
     "output_type": "execute_result"
    }
   ],
   "source": [
    "adf.map.load_values(enumerate([5767168, 134610937, 50352066, 6292659, 9208356, 5767173]))\n",
    "adf.map._registers[1].print()\n",
    "# adf.write_all_registers()\n",
    "# adf.print()"
   ]
  },
  {
   "cell_type": "code",
   "execution_count": null,
   "metadata": {},
   "outputs": [],
   "source": [
    "[3932160, 134252497, 50352066, 6292659, 10256444, 5767173]\n",
    "[5767168, 134610937, 50352066, 6292659, 9208356, 5767173]"
   ]
  },
  {
   "cell_type": "code",
   "execution_count": 25,
   "metadata": {},
   "outputs": [
    {
     "data": {
      "text/plain": [
       "{'name': 'REGISTER_0',\n",
       " 'code_name': 'REGISTER_0',\n",
       " 'address': 0,\n",
       " 'description': 'REGISTER_0',\n",
       " 'default_value': 0,\n",
       " 'elements': [{'name': 'Reserved_31',\n",
       "   'idx_lowest_bit': 31,\n",
       "   'n_bits': 1,\n",
       "   'value': 0,\n",
       "   'read_only': True,\n",
       "   'code_name': 'Reserved_31',\n",
       "   'description': 'Reserved'},\n",
       "  {'name': 'INT',\n",
       "   'idx_lowest_bit': 15,\n",
       "   'n_bits': 16,\n",
       "   'value': 120,\n",
       "   'read_only': False,\n",
       "   'code_name': 'INT',\n",
       "   'description': 'The 16 INT bits (Bits[DB30:DB15]) set the INT value, which determines the integer part of the feedback division factor. The INT value is used in Equation 1 (see the INT, FRAC, MOD, and R Counter Relationship section). Integer values from 23 to 65,535 are allowed for the 4/5 prescaler; for the 8/9 prescaler, the minimum integer value is 75.'},\n",
       "  {'name': 'FRAC',\n",
       "   'idx_lowest_bit': 3,\n",
       "   'n_bits': 12,\n",
       "   'value': 0,\n",
       "   'read_only': False,\n",
       "   'code_name': 'FRAC',\n",
       "   'description': 'The 12 FRAC bits (Bits[DB14:DB3]) set the numerator of the fraction that is input to the Σ-Δ modulator. This fraction, along with the INT value, specifies the new frequency channel that the synthesizer locks to, as shown in the RF Synthesizer—A Worked Example section. FRAC values from 0 to (MOD ? 1) cover channels over a frequency range equal to the PFD refer- ence frequency.'},\n",
       "  {'name': 'Index',\n",
       "   'idx_lowest_bit': 0,\n",
       "   'n_bits': 3,\n",
       "   'value': 0,\n",
       "   'read_only': True,\n",
       "   'code_name': 'Index',\n",
       "   'description': 'When Bits[C3:C1] are set to 000, Register 0 is programmed. Figure 24 shows the input data format for programming this register.'}]}"
      ]
     },
     "execution_count": 25,
     "metadata": {},
     "output_type": "execute_result"
    }
   ],
   "source": [
    "import pandas as pd\n",
    "import json\n",
    "\n",
    "\n",
    "self = adf\n",
    "\n",
    "adf.map.load_values(enumerate([3932160, 134252497, 50352066, 6292659, 10256444, 5767173]))\n",
    "reg_values_1 = json.loads(adf.map.dumps())\n",
    "reg_values_1['registers'][0]"
   ]
  },
  {
   "cell_type": "code",
   "execution_count": 29,
   "metadata": {},
   "outputs": [
    {
     "data": {
      "text/html": [
       "<div>\n",
       "<style scoped>\n",
       "    .dataframe tbody tr th:only-of-type {\n",
       "        vertical-align: middle;\n",
       "    }\n",
       "\n",
       "    .dataframe tbody tr th {\n",
       "        vertical-align: top;\n",
       "    }\n",
       "\n",
       "    .dataframe thead th {\n",
       "        text-align: right;\n",
       "    }\n",
       "</style>\n",
       "<table border=\"1\" class=\"dataframe\">\n",
       "  <thead>\n",
       "    <tr style=\"text-align: right;\">\n",
       "      <th></th>\n",
       "      <th>name</th>\n",
       "      <th>idx_lowest_bit</th>\n",
       "      <th>n_bits</th>\n",
       "      <th>value</th>\n",
       "      <th>read_only</th>\n",
       "      <th>code_name</th>\n",
       "      <th>description</th>\n",
       "    </tr>\n",
       "  </thead>\n",
       "  <tbody>\n",
       "    <tr>\n",
       "      <th>0</th>\n",
       "      <td>Reserved_31</td>\n",
       "      <td>31</td>\n",
       "      <td>1</td>\n",
       "      <td>0</td>\n",
       "      <td>True</td>\n",
       "      <td>Reserved_31</td>\n",
       "      <td>Reserved</td>\n",
       "    </tr>\n",
       "    <tr>\n",
       "      <th>1</th>\n",
       "      <td>INT</td>\n",
       "      <td>15</td>\n",
       "      <td>16</td>\n",
       "      <td>120</td>\n",
       "      <td>False</td>\n",
       "      <td>INT</td>\n",
       "      <td>The 16 INT bits (Bits[DB30:DB15]) set the INT ...</td>\n",
       "    </tr>\n",
       "    <tr>\n",
       "      <th>2</th>\n",
       "      <td>FRAC</td>\n",
       "      <td>3</td>\n",
       "      <td>12</td>\n",
       "      <td>0</td>\n",
       "      <td>False</td>\n",
       "      <td>FRAC</td>\n",
       "      <td>The 12 FRAC bits (Bits[DB14:DB3]) set the nume...</td>\n",
       "    </tr>\n",
       "    <tr>\n",
       "      <th>3</th>\n",
       "      <td>Index</td>\n",
       "      <td>0</td>\n",
       "      <td>3</td>\n",
       "      <td>0</td>\n",
       "      <td>True</td>\n",
       "      <td>Index</td>\n",
       "      <td>When Bits[C3:C1] are set to 000, Register 0 is...</td>\n",
       "    </tr>\n",
       "  </tbody>\n",
       "</table>\n",
       "</div>"
      ],
      "text/plain": [
       "          name  idx_lowest_bit  n_bits  value  read_only    code_name  \\\n",
       "0  Reserved_31              31       1      0       True  Reserved_31   \n",
       "1          INT              15      16    120      False          INT   \n",
       "2         FRAC               3      12      0      False         FRAC   \n",
       "3        Index               0       3      0       True        Index   \n",
       "\n",
       "                                         description  \n",
       "0                                           Reserved  \n",
       "1  The 16 INT bits (Bits[DB30:DB15]) set the INT ...  \n",
       "2  The 12 FRAC bits (Bits[DB14:DB3]) set the nume...  \n",
       "3  When Bits[C3:C1] are set to 000, Register 0 is...  "
      ]
     },
     "execution_count": 29,
     "metadata": {},
     "output_type": "execute_result"
    }
   ],
   "source": [
    "df1 = pd.DataFrame(reg_values_1['registers'][0]['elements'])\n",
    "df1"
   ]
  },
  {
   "cell_type": "code",
   "execution_count": 22,
   "metadata": {},
   "outputs": [
    {
     "data": {
      "text/html": [
       "<div>\n",
       "<style scoped>\n",
       "    .dataframe tbody tr th:only-of-type {\n",
       "        vertical-align: middle;\n",
       "    }\n",
       "\n",
       "    .dataframe tbody tr th {\n",
       "        vertical-align: top;\n",
       "    }\n",
       "\n",
       "    .dataframe thead th {\n",
       "        text-align: right;\n",
       "    }\n",
       "</style>\n",
       "<table border=\"1\" class=\"dataframe\">\n",
       "  <thead>\n",
       "    <tr style=\"text-align: right;\">\n",
       "      <th></th>\n",
       "      <th>name</th>\n",
       "      <th>code_name</th>\n",
       "      <th>address</th>\n",
       "      <th>description</th>\n",
       "      <th>default_value</th>\n",
       "      <th>elements</th>\n",
       "    </tr>\n",
       "  </thead>\n",
       "  <tbody>\n",
       "    <tr>\n",
       "      <th>0</th>\n",
       "      <td>REGISTER_0</td>\n",
       "      <td>REGISTER_0</td>\n",
       "      <td>0</td>\n",
       "      <td>REGISTER_0</td>\n",
       "      <td>0</td>\n",
       "      <td>[{'name': 'Reserved_31', 'idx_lowest_bit': 31,...</td>\n",
       "    </tr>\n",
       "    <tr>\n",
       "      <th>1</th>\n",
       "      <td>REGISTER_1</td>\n",
       "      <td>REGISTER_1</td>\n",
       "      <td>1</td>\n",
       "      <td>REGISTER_1</td>\n",
       "      <td>0</td>\n",
       "      <td>[{'name': 'Reserved_29', 'idx_lowest_bit': 29,...</td>\n",
       "    </tr>\n",
       "    <tr>\n",
       "      <th>2</th>\n",
       "      <td>REGISTER_2</td>\n",
       "      <td>REGISTER_2</td>\n",
       "      <td>2</td>\n",
       "      <td>REGISTER_2</td>\n",
       "      <td>0</td>\n",
       "      <td>[{'name': 'Reserved_31', 'idx_lowest_bit': 31,...</td>\n",
       "    </tr>\n",
       "    <tr>\n",
       "      <th>3</th>\n",
       "      <td>REGISTER_3</td>\n",
       "      <td>REGISTER_3</td>\n",
       "      <td>3</td>\n",
       "      <td>REGISTER_3</td>\n",
       "      <td>0</td>\n",
       "      <td>[{'name': 'Reserved_24', 'idx_lowest_bit': 24,...</td>\n",
       "    </tr>\n",
       "    <tr>\n",
       "      <th>4</th>\n",
       "      <td>REGISTER_4</td>\n",
       "      <td>REGISTER_4</td>\n",
       "      <td>4</td>\n",
       "      <td>REGISTER_4</td>\n",
       "      <td>8388608</td>\n",
       "      <td>[{'name': 'Reserved_24', 'idx_lowest_bit': 24,...</td>\n",
       "    </tr>\n",
       "    <tr>\n",
       "      <th>5</th>\n",
       "      <td>REGISTER_5</td>\n",
       "      <td>REGISTER_5</td>\n",
       "      <td>5</td>\n",
       "      <td>REGISTER_5</td>\n",
       "      <td>1572864</td>\n",
       "      <td>[{'name': 'Reserved_24', 'idx_lowest_bit': 24,...</td>\n",
       "    </tr>\n",
       "  </tbody>\n",
       "</table>\n",
       "</div>"
      ],
      "text/plain": [
       "         name   code_name  address description  default_value  \\\n",
       "0  REGISTER_0  REGISTER_0        0  REGISTER_0              0   \n",
       "1  REGISTER_1  REGISTER_1        1  REGISTER_1              0   \n",
       "2  REGISTER_2  REGISTER_2        2  REGISTER_2              0   \n",
       "3  REGISTER_3  REGISTER_3        3  REGISTER_3              0   \n",
       "4  REGISTER_4  REGISTER_4        4  REGISTER_4        8388608   \n",
       "5  REGISTER_5  REGISTER_5        5  REGISTER_5        1572864   \n",
       "\n",
       "                                            elements  \n",
       "0  [{'name': 'Reserved_31', 'idx_lowest_bit': 31,...  \n",
       "1  [{'name': 'Reserved_29', 'idx_lowest_bit': 29,...  \n",
       "2  [{'name': 'Reserved_31', 'idx_lowest_bit': 31,...  \n",
       "3  [{'name': 'Reserved_24', 'idx_lowest_bit': 24,...  \n",
       "4  [{'name': 'Reserved_24', 'idx_lowest_bit': 24,...  \n",
       "5  [{'name': 'Reserved_24', 'idx_lowest_bit': 24,...  "
      ]
     },
     "execution_count": 22,
     "metadata": {},
     "output_type": "execute_result"
    }
   ],
   "source": [
    "df1 = pd.DataFrame(reg_values_1['registers'])\n",
    "df1"
   ]
  },
  {
   "cell_type": "code",
   "execution_count": null,
   "metadata": {},
   "outputs": [],
   "source": [
    "registers_names = pd.DataFrame([(address, name) for (address, name, _) in self.address_name_values],\n",
    "                               columns = ['address', 'register_name'])\n",
    "df_1 = pd.DataFrame(set_1, columns = ['address', 'value'])\n",
    "df_2 = pd.DataFrame(set_2, columns = ['address', 'value'])\n",
    "\n",
    "df = pd.merge(registers_names, df_1, how = 'outer', on = ['address'])\n",
    "df = pd.merge(df, df_2, how = 'outer', on = ['address'], suffixes = ('_1', '_2'))\n",
    "\n",
    "df.drop(df.index[pd.isna(df.value_1) & pd.isna(df.value_2)], inplace = True)\n",
    "df['different'] = (df.value_1 != df.value_2).astype(int)\n",
    "df.sort_values(by = ['address'], inplace = True)\n",
    "df.index = range(len(df))\n",
    "\n",
    "return df"
   ]
  },
  {
   "cell_type": "markdown",
   "metadata": {},
   "source": [
    "## Current Configuration"
   ]
  },
  {
   "cell_type": "code",
   "execution_count": null,
   "metadata": {},
   "outputs": [],
   "source": [
    "adf.init()"
   ]
  },
  {
   "cell_type": "code",
   "execution_count": null,
   "metadata": {},
   "outputs": [],
   "source": [
    "# adf.band_select_clock_divider._set_mode('LOW')"
   ]
  },
  {
   "cell_type": "code",
   "execution_count": null,
   "metadata": {},
   "outputs": [],
   "source": [
    "adf.set_frequency(1.50e9, channel_resolution = 100e3)"
   ]
  },
  {
   "cell_type": "code",
   "execution_count": null,
   "metadata": {},
   "outputs": [],
   "source": [
    "adf.write_all_registers()"
   ]
  },
  {
   "cell_type": "code",
   "execution_count": null,
   "metadata": {},
   "outputs": [],
   "source": [
    "adf.current_dividers"
   ]
  },
  {
   "cell_type": "code",
   "execution_count": null,
   "metadata": {},
   "outputs": [],
   "source": [
    "adf.freq_pfd"
   ]
  },
  {
   "cell_type": "code",
   "execution_count": null,
   "metadata": {},
   "outputs": [],
   "source": [
    "adf.rf_n_divider.MOD"
   ]
  },
  {
   "cell_type": "code",
   "execution_count": null,
   "metadata": {},
   "outputs": [],
   "source": [
    "# 1.5GHz\n",
    "adf.set_dividers(*(2, 100, 2, 12000.0, 2))"
   ]
  },
  {
   "cell_type": "code",
   "execution_count": null,
   "metadata": {},
   "outputs": [],
   "source": [
    "adf.rf_divider._set_divider(2)"
   ]
  },
  {
   "cell_type": "code",
   "execution_count": null,
   "metadata": {},
   "outputs": [],
   "source": [
    "adf.band_select_clock_divider._refresh_divider()"
   ]
  },
  {
   "cell_type": "code",
   "execution_count": null,
   "metadata": {},
   "outputs": [],
   "source": [
    "adf.current_configuration[0]"
   ]
  },
  {
   "cell_type": "code",
   "execution_count": null,
   "metadata": {},
   "outputs": [],
   "source": [
    "reg_values = [reg.value for reg in adf.map._registers]\n",
    "[hex(r) for r in reg_values]"
   ]
  },
  {
   "cell_type": "code",
   "execution_count": null,
   "metadata": {},
   "outputs": [],
   "source": [
    "\n",
    "_spi = ShiftRegister(stb_pin = _ss, clk_pin = _clk, data_pin = _data, polarity = 0)"
   ]
  },
  {
   "cell_type": "code",
   "execution_count": 7,
   "metadata": {},
   "outputs": [],
   "source": [
    "AD_default_reg_values = [0x320000, 0x8008011, 0x4E42, 0x4B3, 0x8C803C, 0x580005]\n",
    "reg_values = AD_default_reg_values"
   ]
  },
  {
   "cell_type": "code",
   "execution_count": null,
   "metadata": {},
   "outputs": [],
   "source": [
    "_clk = peripherals.Pin.get_Ftdi_pin(pin_id = 4)\n",
    "_data = peripherals.Pin.get_Ftdi_pin(pin_id = 1)\n",
    "_ss = peripherals.Pin.get_Ftdi_pin(pin_id = 3)\n",
    "# _ss2 = peripherals.Pin.get_Ftdi_pin(pin_id = 0)\n",
    "\n",
    "_spi = ShiftRegister(stb_pin = _ss, clk_pin = _clk, data_pin = _data, polarity = 0)\n",
    "\n",
    "_spi = SPI(spi, ss, ss_polarity = ss_polarity)"
   ]
  },
  {
   "cell_type": "code",
   "execution_count": 9,
   "metadata": {},
   "outputs": [],
   "source": [
    "reg_values = [0x2ee00000, 0x80587d1, 0x3320fc2, 0xe004b3, 0x901224, 0x400005]"
   ]
  },
  {
   "cell_type": "code",
   "execution_count": 13,
   "metadata": {},
   "outputs": [],
   "source": [
    "reg_values = [3932160, 134250513, 20034, 1203, 10256444, 5767173]"
   ]
  },
  {
   "cell_type": "code",
   "execution_count": 16,
   "metadata": {},
   "outputs": [],
   "source": [
    "import time\n",
    "from array import array\n",
    "\n",
    "for r in reg_values[::-1]:\n",
    "#     print(hex(reg_values[i]), array('B', reg_values[i].to_bytes(4, 'big')))\n",
    "    \n",
    "    adf._write_register_value(r)\n",
    "    time.sleep(0.1)\n",
    "    \n",
    "# adf._write_register_value(reg_values[0])\n",
    "# time.sleep(0.1)\n",
    "    \n",
    "#     adf._write_register_value(reg_values[0])\n",
    "#     if i in (1, 2):\n",
    "#         adf._write_register_value(reg_values[0])\n",
    "#         time.sleep(0.1)"
   ]
  },
  {
   "cell_type": "code",
   "execution_count": null,
   "metadata": {},
   "outputs": [],
   "source": [
    "adf.write_all_registers()"
   ]
  },
  {
   "cell_type": "code",
   "execution_count": null,
   "metadata": {},
   "outputs": [],
   "source": [
    "adf._initialize_registers()"
   ]
  },
  {
   "cell_type": "code",
   "execution_count": null,
   "metadata": {},
   "outputs": [],
   "source": [
    "adf.enable(True)"
   ]
  },
  {
   "cell_type": "code",
   "execution_count": null,
   "metadata": {},
   "outputs": [],
   "source": [
    "adf.init()"
   ]
  },
  {
   "cell_type": "code",
   "execution_count": null,
   "metadata": {},
   "outputs": [],
   "source": [
    "freq_desired = 1.5e9"
   ]
  },
  {
   "cell_type": "code",
   "execution_count": null,
   "metadata": {},
   "outputs": [],
   "source": [
    "adf.charge_pump._set_current(5)\n",
    "\n",
    "adf.r_counter._set_divider(1)\n",
    "\n",
    "adf.set_frequency(freq_desired)"
   ]
  },
  {
   "cell_type": "code",
   "execution_count": null,
   "metadata": {},
   "outputs": [],
   "source": [
    "adf.current_dividers"
   ]
  },
  {
   "cell_type": "code",
   "execution_count": null,
   "metadata": {},
   "outputs": [],
   "source": [
    "adf.current_configuration[0]"
   ]
  },
  {
   "cell_type": "code",
   "execution_count": null,
   "metadata": {},
   "outputs": [],
   "source": [
    "freq_ref = 25e6\n",
    "d_ref_doubler = 2\n",
    "d_r_count = 1\n",
    "d_ref_divider = 2\n",
    "d_rf_divider = 2\n",
    "\n",
    "d_n_divider  = freq_desired * d_rf_divider * d_ref_divider * d_r_count / (freq_ref * d_ref_doubler)\n",
    "\n",
    "adf.set_dividers(*(d_ref_doubler, d_r_count, d_ref_divider, d_n_divider, d_rf_divider))\n",
    "d_r_count , d_n_divider, adf.freq_pfd, adf.current_frequency"
   ]
  },
  {
   "cell_type": "code",
   "execution_count": null,
   "metadata": {},
   "outputs": [],
   "source": [
    "adf.band_select_clock_divider._set_mode('LOW')"
   ]
  },
  {
   "cell_type": "code",
   "execution_count": null,
   "metadata": {},
   "outputs": [],
   "source": [
    "adf.band_select_clock_divider._set_divider(1)"
   ]
  },
  {
   "cell_type": "code",
   "execution_count": null,
   "metadata": {},
   "outputs": [],
   "source": [
    "adf.band_select_clock_divider._refresh_divider()"
   ]
  },
  {
   "cell_type": "code",
   "execution_count": null,
   "metadata": {},
   "outputs": [],
   "source": [
    "adf.set_frequency(50.1e6)"
   ]
  },
  {
   "cell_type": "code",
   "execution_count": null,
   "metadata": {},
   "outputs": [],
   "source": [
    "df_dividers, df_controls = adf.current_configuration\n",
    "df_dividers"
   ]
  },
  {
   "cell_type": "code",
   "execution_count": null,
   "metadata": {},
   "outputs": [],
   "source": [
    "df_controls"
   ]
  },
  {
   "cell_type": "code",
   "execution_count": null,
   "metadata": {},
   "outputs": [],
   "source": [
    "adf.rf_n_divider.MOD"
   ]
  },
  {
   "cell_type": "code",
   "execution_count": null,
   "metadata": {},
   "outputs": [],
   "source": [
    "adf.enable(True)"
   ]
  },
  {
   "cell_type": "code",
   "execution_count": null,
   "metadata": {},
   "outputs": [],
   "source": [
    "# adf.current_dividers"
   ]
  },
  {
   "cell_type": "code",
   "execution_count": null,
   "metadata": {},
   "outputs": [],
   "source": [
    "adf.init()"
   ]
  },
  {
   "cell_type": "code",
   "execution_count": null,
   "metadata": {},
   "outputs": [],
   "source": [
    "adf.current_configuration[1]"
   ]
  },
  {
   "cell_type": "code",
   "execution_count": null,
   "metadata": {},
   "outputs": [],
   "source": [
    "mode, required_divider, divider = adf.band_select_clock_divider._refresh_divider()\n",
    "mode, required_divider, divider"
   ]
  },
  {
   "cell_type": "code",
   "execution_count": null,
   "metadata": {},
   "outputs": [],
   "source": [
    "adf.rf_out.enable(True)"
   ]
  },
  {
   "cell_type": "code",
   "execution_count": null,
   "metadata": {},
   "outputs": [],
   "source": [
    "adf.band_select_clock_divider._set_mode('LOW')"
   ]
  },
  {
   "cell_type": "code",
   "execution_count": null,
   "metadata": {},
   "outputs": [],
   "source": [
    "adf.band_select_clock_divider.mode"
   ]
  },
  {
   "cell_type": "code",
   "execution_count": null,
   "metadata": {},
   "outputs": [],
   "source": [
    "adf.band_select_clock_divider.divider"
   ]
  },
  {
   "cell_type": "code",
   "execution_count": null,
   "metadata": {},
   "outputs": [],
   "source": [
    "adf.band_select_clock_divider.freq"
   ]
  },
  {
   "cell_type": "code",
   "execution_count": null,
   "metadata": {},
   "outputs": [],
   "source": [
    "adf.band_select_clock_divider._set_divider(100)"
   ]
  },
  {
   "cell_type": "code",
   "execution_count": null,
   "metadata": {},
   "outputs": [],
   "source": [
    "adf.band_select_clock_divider._refresh_divider()"
   ]
  },
  {
   "cell_type": "code",
   "execution_count": null,
   "metadata": {},
   "outputs": [],
   "source": [
    "adf.current_configuration[0]"
   ]
  },
  {
   "cell_type": "code",
   "execution_count": null,
   "metadata": {},
   "outputs": [],
   "source": [
    "adf.current_configuration[1]"
   ]
  },
  {
   "cell_type": "code",
   "execution_count": null,
   "metadata": {},
   "outputs": [],
   "source": [
    "adf.init()"
   ]
  },
  {
   "cell_type": "code",
   "execution_count": null,
   "metadata": {},
   "outputs": [],
   "source": [
    "# 1.5GHz\n",
    "adf.set_dividers(*(2, 200, 2, 24000.0, 2))\n",
    "adf.current_configuration[0]"
   ]
  },
  {
   "cell_type": "code",
   "execution_count": null,
   "metadata": {},
   "outputs": [],
   "source": [
    "adf.freq_pfd, adf.band_select_clock_divider.mode, adf.band_select_clock_divider.divider, adf.freq_pfd / adf.band_select_clock_divider.divider"
   ]
  },
  {
   "cell_type": "code",
   "execution_count": null,
   "metadata": {},
   "outputs": [],
   "source": [
    "# 1.5GHz\n",
    "adf.set_dividers(*(2, 250, 2, 30004.0, 2))\n",
    "adf.current_configuration[1]"
   ]
  },
  {
   "cell_type": "code",
   "execution_count": null,
   "metadata": {},
   "outputs": [],
   "source": [
    "adf.freq_pfd, adf.band_select_clock_divider.mode, adf.band_select_clock_divider.divider, adf.freq_pfd / adf.band_select_clock_divider.divider"
   ]
  },
  {
   "cell_type": "code",
   "execution_count": null,
   "metadata": {},
   "outputs": [],
   "source": [
    "# 1.5GHz\n",
    "adf.set_dividers(*(2, 1, 2, 120.016, 2))\n",
    "adf.current_frequency"
   ]
  },
  {
   "cell_type": "code",
   "execution_count": null,
   "metadata": {},
   "outputs": [],
   "source": [
    "# 50MHz\n",
    "adf.set_dividers(*(1, 1, 1, 128, 64))\n",
    "adf.current_frequency"
   ]
  },
  {
   "cell_type": "code",
   "execution_count": null,
   "metadata": {},
   "outputs": [],
   "source": [
    "\n",
    "adf.band_select_clock_divider._refresh_divider()"
   ]
  },
  {
   "cell_type": "code",
   "execution_count": null,
   "metadata": {},
   "outputs": [],
   "source": [
    "# 50MHz\n",
    "adf.set_dividers(*(2, 10, 2, 1280, 64))\n",
    "adf.current_frequency"
   ]
  },
  {
   "cell_type": "code",
   "execution_count": null,
   "metadata": {},
   "outputs": [],
   "source": [
    "adf.set_frequency(50e6)"
   ]
  },
  {
   "cell_type": "code",
   "execution_count": null,
   "metadata": {},
   "outputs": [],
   "source": [
    "adf.current_dividers"
   ]
  },
  {
   "cell_type": "code",
   "execution_count": null,
   "metadata": {},
   "outputs": [],
   "source": [
    "adf.band_select_clock_divider._set_mode('LOW')\n",
    "adf.band_select_clock_divider._set_divider(21)"
   ]
  },
  {
   "cell_type": "code",
   "execution_count": null,
   "metadata": {},
   "outputs": [],
   "source": [
    "# adf.current_dividers"
   ]
  },
  {
   "cell_type": "code",
   "execution_count": null,
   "metadata": {},
   "outputs": [],
   "source": [
    "# adf.current_configuration[0]"
   ]
  },
  {
   "cell_type": "code",
   "execution_count": null,
   "metadata": {},
   "outputs": [],
   "source": [
    "# adf.phase_frequency_detector._enable_cycle_slip_reduction(False)"
   ]
  },
  {
   "cell_type": "code",
   "execution_count": null,
   "metadata": {},
   "outputs": [],
   "source": [
    "adf.band_select_clock_divider._set_mode('LOW')\n",
    "adf.freq_pfd"
   ]
  },
  {
   "cell_type": "code",
   "execution_count": null,
   "metadata": {},
   "outputs": [],
   "source": [
    "adf.band_select_clock_divider._set_mode('HIGH')\n",
    "adf.freq_pfd"
   ]
  },
  {
   "cell_type": "code",
   "execution_count": null,
   "metadata": {},
   "outputs": [],
   "source": [
    "adf.band_select_clock_divider._set_divider(26)"
   ]
  },
  {
   "cell_type": "code",
   "execution_count": null,
   "metadata": {},
   "outputs": [],
   "source": [
    "adf.band_select_clock_divider._set_divider(200)"
   ]
  },
  {
   "cell_type": "code",
   "execution_count": null,
   "metadata": {},
   "outputs": [],
   "source": [
    "adf.rf_out.set_output_power(5)"
   ]
  },
  {
   "cell_type": "code",
   "execution_count": null,
   "metadata": {},
   "outputs": [],
   "source": [
    "adf.clock_divider._set_mode('FAST_LOCK_ENABLE')"
   ]
  },
  {
   "cell_type": "code",
   "execution_count": null,
   "metadata": {},
   "outputs": [],
   "source": [
    "adf.clock_divider._set_divider(3)"
   ]
  },
  {
   "cell_type": "code",
   "execution_count": null,
   "metadata": {},
   "outputs": [],
   "source": [
    "adf.band_select_clock_divider._source = adf.ref_divider"
   ]
  },
  {
   "cell_type": "code",
   "execution_count": null,
   "metadata": {},
   "outputs": [],
   "source": [
    "adf.band_select_clock_divider._source = adf.r_counter"
   ]
  },
  {
   "cell_type": "code",
   "execution_count": null,
   "metadata": {},
   "outputs": [],
   "source": [
    "mode, required_divider, divider = adf.band_select_clock_divider._refresh_divider()\n",
    "mode, required_divider, divider"
   ]
  },
  {
   "cell_type": "code",
   "execution_count": null,
   "metadata": {},
   "outputs": [],
   "source": [
    "adf.band_select_clock_divider.freq"
   ]
  },
  {
   "cell_type": "code",
   "execution_count": null,
   "metadata": {},
   "outputs": [],
   "source": [
    "adf.rf_out.freq"
   ]
  },
  {
   "cell_type": "code",
   "execution_count": null,
   "metadata": {},
   "outputs": [],
   "source": [
    "adf._confirm_double_buffer()"
   ]
  },
  {
   "cell_type": "code",
   "execution_count": null,
   "metadata": {},
   "outputs": [],
   "source": [
    "# adf.init()\n",
    "adf.r_counter._set_divider(1)\n",
    "adf.set_dividers(*(2, 1, 2, 120.016, 2))"
   ]
  },
  {
   "cell_type": "code",
   "execution_count": null,
   "metadata": {},
   "outputs": [],
   "source": [
    "adf.band_select_clock_divider._enable_band_select(True)"
   ]
  },
  {
   "cell_type": "code",
   "execution_count": null,
   "metadata": {},
   "outputs": [],
   "source": [
    "# adf._write_element_by_name('Counter_Reset', 0)"
   ]
  },
  {
   "cell_type": "code",
   "execution_count": null,
   "metadata": {},
   "outputs": [],
   "source": [
    "adf.rf_out.enable(False)"
   ]
  },
  {
   "cell_type": "code",
   "execution_count": null,
   "metadata": {},
   "outputs": [],
   "source": [
    "adf.rf_out.enable(True)"
   ]
  },
  {
   "cell_type": "code",
   "execution_count": null,
   "metadata": {},
   "outputs": [],
   "source": [
    "adf.enable_output(False)"
   ]
  },
  {
   "cell_type": "code",
   "execution_count": null,
   "metadata": {},
   "outputs": [],
   "source": [
    "adf.enable_output(True)"
   ]
  },
  {
   "cell_type": "code",
   "execution_count": null,
   "metadata": {},
   "outputs": [],
   "source": [
    "adf._enable_counters(True)\n",
    "# adf._confirm_double_buffer()"
   ]
  },
  {
   "cell_type": "code",
   "execution_count": null,
   "metadata": {},
   "outputs": [],
   "source": [
    "# adf.enable(True)"
   ]
  },
  {
   "cell_type": "code",
   "execution_count": null,
   "metadata": {},
   "outputs": [],
   "source": [
    "RF_out_min = 2.2e9 / 64\n",
    "RF_out_max = 4.4e9\n",
    "RF_out_min, RF_out_max"
   ]
  },
  {
   "cell_type": "code",
   "execution_count": null,
   "metadata": {},
   "outputs": [],
   "source": [
    "# adf.set_frequency(RF_out_min, channel_resolution = 100e3, rf_divider_as = None)\n",
    "adf.set_frequency(35e6)\n",
    "# adf.set_frequency(1.599899e9) \n",
    "# adf.set_frequency(RF_out_max, channel_resolution = 100e3, rf_divider_as = None)\n",
    "\n",
    "# adf.phaser.set_phase(90)\n",
    "\n",
    "df_dividers, df_controls = adf.current_configuration\n",
    "df_dividers"
   ]
  },
  {
   "cell_type": "code",
   "execution_count": null,
   "metadata": {},
   "outputs": [],
   "source": [
    "df_controls"
   ]
  },
  {
   "cell_type": "code",
   "execution_count": null,
   "metadata": {},
   "outputs": [],
   "source": [
    "adf.freq_resolution"
   ]
  },
  {
   "cell_type": "markdown",
   "metadata": {},
   "source": [
    "## Find Integer N-dividers for a Frequency"
   ]
  },
  {
   "cell_type": "code",
   "execution_count": null,
   "metadata": {},
   "outputs": [],
   "source": [
    "adf.find_integer_N_dividers(freq_desired = 1.500e9,\n",
    "                            ref_doubled_by_2 = True, ref_divided_by_2 = True, \n",
    "                            rf_divider_as = None, \n",
    "                            torance_hz = 1, freq_ref = 25e6)"
   ]
  },
  {
   "cell_type": "code",
   "execution_count": null,
   "metadata": {},
   "outputs": [],
   "source": [
    "adf.find_integer_N_dividers(freq_desired = 50e6,\n",
    "                            ref_doubled_by_2 = True, ref_divided_by_2 = True, \n",
    "                            rf_divider_as = None, \n",
    "                            torance_hz = 1, freq_ref = 25e6)"
   ]
  },
  {
   "cell_type": "code",
   "execution_count": null,
   "metadata": {},
   "outputs": [],
   "source": [
    "adf.write_all_registers()"
   ]
  },
  {
   "cell_type": "code",
   "execution_count": null,
   "metadata": {},
   "outputs": [],
   "source": [
    "adf.set_dividers(*(2, 500, 2, 64000.0, 64))\n",
    "adf.rf_n_divider.freq\n",
    "adf.current_configuration[0]"
   ]
  },
  {
   "cell_type": "code",
   "execution_count": null,
   "metadata": {},
   "outputs": [],
   "source": [
    "adf.set_dividers(*(2, 500, 2, 60000.0, 2))\n",
    "adf.current_configuration[0]"
   ]
  },
  {
   "cell_type": "code",
   "execution_count": null,
   "metadata": {},
   "outputs": [],
   "source": [
    "adf.set_dividers(*(2, 125, 2, 15002.0, 2))\n",
    "adf.current_configuration[0]"
   ]
  },
  {
   "cell_type": "code",
   "execution_count": null,
   "metadata": {},
   "outputs": [],
   "source": [
    "adf.status"
   ]
  },
  {
   "cell_type": "code",
   "execution_count": null,
   "metadata": {},
   "outputs": [],
   "source": [
    "adf.print()"
   ]
  },
  {
   "cell_type": "code",
   "execution_count": null,
   "metadata": {},
   "outputs": [],
   "source": [
    "adf.init()"
   ]
  },
  {
   "cell_type": "markdown",
   "metadata": {},
   "source": [
    "## Member functions test"
   ]
  },
  {
   "cell_type": "code",
   "execution_count": null,
   "metadata": {},
   "outputs": [],
   "source": [
    "for f in dir(cls):\n",
    "    if not f.startswith('_'):\n",
    "        print('adf.{}()'.format(f))"
   ]
  }
 ],
 "metadata": {
  "kernelspec": {
   "display_name": "Python 3",
   "language": "python",
   "name": "python3"
  },
  "language_info": {
   "codemirror_mode": {
    "name": "ipython",
    "version": 3
   },
   "file_extension": ".py",
   "mimetype": "text/x-python",
   "name": "python",
   "nbconvert_exporter": "python",
   "pygments_lexer": "ipython3",
   "version": "3.6.10"
  }
 },
 "nbformat": 4,
 "nbformat_minor": 2
}
