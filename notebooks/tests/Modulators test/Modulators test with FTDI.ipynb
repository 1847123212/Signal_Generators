{
 "cells": [
  {
   "cell_type": "markdown",
   "metadata": {},
   "source": [
    "# AD9833 Modulators test with FTDI\n",
    "https://www.analog.com/media/en/technical-documentation/data-sheets/ad9833.pdf"
   ]
  },
  {
   "cell_type": "code",
   "execution_count": 1,
   "metadata": {},
   "outputs": [],
   "source": [
    "import os, sys\n",
    "\n",
    "def gen_relative_path(target_path): \n",
    "    \n",
    "    def del_same_parents(target_path, current_path):\n",
    "        if len(target_path) * len(current_path) > 0:\n",
    "            if target_path[0] == current_path[0]:\n",
    "                target_path.pop(0)\n",
    "                current_path.pop(0)\n",
    "                del_same_parents(target_path, current_path)\n",
    "            \n",
    "    current_path = os.getcwd().replace('\\\\', '/').split('/')\n",
    "    target_path = target_path.replace('\\\\', '/').split('/')\n",
    "    del_same_parents(target_path, current_path)\n",
    "    \n",
    "    return ['..'] * len(current_path) + target_path\n",
    "\n",
    "\n",
    "def append_source_relative_path(source_relative_path):\n",
    "    sys.path.append(os.sep.join(source_relative_path))"
   ]
  },
  {
   "cell_type": "code",
   "execution_count": 2,
   "metadata": {},
   "outputs": [],
   "source": [
    "# paths = ['']\n",
    "# paths = [gen_relative_path(p) for p in paths]\n",
    "# print(paths)"
   ]
  },
  {
   "cell_type": "code",
   "execution_count": 3,
   "metadata": {},
   "outputs": [],
   "source": [
    "paths = [['..', '..', '..', '..', '..', '..', '..', '已完成', 'Bridges', 'bitbucket', 'github', 'codes'], \n",
    "         ['..', '..', '..', '..', '..', '..', 'Utilities', 'bitbucket', 'github', 'codes'],\n",
    "         ['..', '..', '..', 'codes']]\n",
    "\n",
    "for path in paths:\n",
    "    append_source_relative_path(path)"
   ]
  },
  {
   "cell_type": "code",
   "execution_count": 4,
   "metadata": {},
   "outputs": [
    {
     "name": "stdout",
     "output_type": "stream",
     "text": [
      "Populating the interactive namespace from numpy and matplotlib\n"
     ]
    }
   ],
   "source": [
    "%pylab inline \n",
    "\n",
    "from signal_generators import modulators \n",
    "from signal_generators.ad98xx.ad9833 import *\n",
    "from signal_generators.ad98xx.ad9850 import * \n",
    "from utilities.adapters import peripherals\n",
    "from utilities.shift_register import ShiftRegister"
   ]
  },
  {
   "cell_type": "markdown",
   "metadata": {},
   "source": [
    "## Debug mode?"
   ]
  },
  {
   "cell_type": "code",
   "execution_count": 5,
   "metadata": {
    "scrolled": false
   },
   "outputs": [],
   "source": [
    "AD9833.DEBUG_MODE_SHOW_BUS_DATA = False        # whether to show bus data. \n",
    "AD9833.DEBUG_MODE_PRINT_REGISTER = False        # whether to print registers. "
   ]
  },
  {
   "cell_type": "markdown",
   "metadata": {},
   "source": [
    "## Generators and Modulators"
   ]
  },
  {
   "cell_type": "code",
   "execution_count": 7,
   "metadata": {},
   "outputs": [],
   "source": [
    "with_hardware_device = True\n",
    "\n",
    "if with_hardware_device:\n",
    "    _clk = peripherals.Pin.get_Ftdi_pin(pin_id = 4)\n",
    "    _data = peripherals.Pin.get_Ftdi_pin(pin_id = 1)\n",
    "\n",
    "    _ss1 = peripherals.Pin.get_Ftdi_pin(pin_id = 3)\n",
    "    _ss2 = peripherals.Pin.get_Ftdi_pin(pin_id = 0)\n",
    "\n",
    "    _spi_1 = ShiftRegister(stb_pin = _ss1, clk_pin = _clk, data_pin = _data, polarity = 1)\n",
    "    _spi_2 = ShiftRegister(stb_pin = _ss2, clk_pin = _clk, data_pin = _data, polarity = 1)\n",
    "else:\n",
    "    _spi_1 = _spi_2 = _ss1 = _ss2 = None  # using None for testing without actual hardware device.\n",
    "\n",
    "\n",
    "ad1 = AD9833(_spi_1, _ss1)\n",
    "ad2 = AD9833(_spi_2, _ss2)"
   ]
  },
  {
   "cell_type": "code",
   "execution_count": 13,
   "metadata": {},
   "outputs": [],
   "source": [
    "freq_demo = 30\n",
    "\n",
    "bfsk = modulators.BFSK(ad1)\n",
    "bpsk = modulators.BPSK(ad1, freq = freq_demo)\n",
    "dtmf = modulators.DTMF((ad1, ad2))\n",
    "fm = modulators.FM(ad1)\n",
    "iq = modulators.IQ((ad1, ad2), freq = freq_demo)\n",
    "ook = modulators.OOK(ad1)\n",
    "pm = modulators.PM(ad1, freq = freq_demo)\n",
    "pwm = modulators.PWM(ad1)\n",
    "qpsk = modulators.QPSK(ad1, freq = freq_demo)"
   ]
  },
  {
   "cell_type": "code",
   "execution_count": 14,
   "metadata": {},
   "outputs": [],
   "source": [
    "ad1.reset()\n",
    "ad2.reset()"
   ]
  },
  {
   "cell_type": "code",
   "execution_count": 15,
   "metadata": {},
   "outputs": [],
   "source": [
    "ad1.enable_output(False)\n",
    "ad2.enable_output(False)"
   ]
  },
  {
   "cell_type": "markdown",
   "metadata": {},
   "source": [
    "## Testing data sequence"
   ]
  },
  {
   "cell_type": "code",
   "execution_count": 17,
   "metadata": {},
   "outputs": [],
   "source": [
    "samples_size = 30\n",
    "duration = 0.1\n",
    "\n",
    "symbols = np.random.randint(2, size = samples_size)\n",
    "digital_sequence = [(symbol, duration) for symbol in symbols] \n",
    "\n",
    "\n",
    "symbols = np.random.uniform(-1, 1, size = samples_size).round(5)\n",
    "analog_sequence = [(symbol, duration) for symbol in symbols] \n",
    "\n",
    "\n",
    "symbols = np.random.choice(['1', '2', '3', 'A', '4', '5', '6', 'B', '7', '8', '9', 'C', '*', '0', '#', 'D'], \n",
    "                           size = samples_size)\n",
    "dtmf_sequence = [(symbol, duration) for symbol in symbols] \n",
    "\n",
    "\n",
    "symbols = np.random.choice([0, 1, 2, 3], size = samples_size)\n",
    "quadrature_sequence = [(symbol, duration) for symbol in symbols] "
   ]
  },
  {
   "cell_type": "markdown",
   "metadata": {},
   "source": [
    "## Modulators test"
   ]
  },
  {
   "cell_type": "code",
   "execution_count": 18,
   "metadata": {},
   "outputs": [],
   "source": [
    "def dump(m):\n",
    "    m._device.print()"
   ]
  },
  {
   "cell_type": "code",
   "execution_count": 19,
   "metadata": {},
   "outputs": [],
   "source": [
    "bfsk.send_sequence(digital_sequence)"
   ]
  },
  {
   "cell_type": "code",
   "execution_count": 23,
   "metadata": {},
   "outputs": [],
   "source": [
    "bpsk.send_sequence(digital_sequence)"
   ]
  },
  {
   "cell_type": "code",
   "execution_count": 24,
   "metadata": {},
   "outputs": [],
   "source": [
    "ook.send_sequence(digital_sequence)"
   ]
  },
  {
   "cell_type": "code",
   "execution_count": 25,
   "metadata": {},
   "outputs": [],
   "source": [
    "fm.send_sequence(analog_sequence)"
   ]
  },
  {
   "cell_type": "code",
   "execution_count": 26,
   "metadata": {},
   "outputs": [],
   "source": [
    "pm.send_sequence(analog_sequence)"
   ]
  },
  {
   "cell_type": "code",
   "execution_count": 28,
   "metadata": {},
   "outputs": [],
   "source": [
    "qpsk.send_sequence(quadrature_sequence)"
   ]
  },
  {
   "cell_type": "code",
   "execution_count": 29,
   "metadata": {},
   "outputs": [],
   "source": [
    "iq.send_sequence(quadrature_sequence)"
   ]
  },
  {
   "cell_type": "code",
   "execution_count": null,
   "metadata": {},
   "outputs": [],
   "source": [
    "dtmf.send_sequence(dtmf_sequence)"
   ]
  },
  {
   "cell_type": "code",
   "execution_count": null,
   "metadata": {},
   "outputs": [],
   "source": [
    "pwm.run()"
   ]
  }
 ],
 "metadata": {
  "kernelspec": {
   "display_name": "Python 3",
   "language": "python",
   "name": "python3"
  },
  "language_info": {
   "codemirror_mode": {
    "name": "ipython",
    "version": 3
   },
   "file_extension": ".py",
   "mimetype": "text/x-python",
   "name": "python",
   "nbconvert_exporter": "python",
   "pygments_lexer": "ipython3",
   "version": "3.6.10"
  }
 },
 "nbformat": 4,
 "nbformat_minor": 2
}
