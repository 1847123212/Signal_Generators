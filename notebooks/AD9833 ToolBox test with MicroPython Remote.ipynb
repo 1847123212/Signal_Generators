{
 "cells": [
  {
   "cell_type": "markdown",
   "metadata": {},
   "source": [
    "# AD9833 ToolBox test with MicroPython Remote\n",
    "- https://www.analog.com/media/en/technical-documentation/data-sheets/ad9833.pdf\n",
    "- https://pypi.org/project/jupyter-micropython-remote/\n",
    "- https://towardsdatascience.com/micropython-on-esp-using-jupyter-6f366ff5ed9"
   ]
  },
  {
   "cell_type": "code",
   "execution_count": null,
   "metadata": {},
   "outputs": [],
   "source": [
    "%local\n",
    "!ls /dev/ttyUSB*"
   ]
  },
  {
   "cell_type": "code",
   "execution_count": null,
   "metadata": {},
   "outputs": [],
   "source": [
    "# %connect /dev/ttyUSB0 --baudrate=115200 --user='micro' --password='python' --wait=0\n",
    "\n",
    "%connect COM4 --baudrate=115200 --user='micro' --password='python' --wait=0"
   ]
  },
  {
   "cell_type": "code",
   "execution_count": null,
   "metadata": {},
   "outputs": [],
   "source": [
    "# %lsmagic"
   ]
  },
  {
   "cell_type": "code",
   "execution_count": null,
   "metadata": {},
   "outputs": [],
   "source": [
    "import adapters\n",
    "import tools\n",
    "from ad9833 import AD9833\n",
    "\n",
    "import machine\n",
    "import gc\n",
    "\n",
    "gc.collect()"
   ]
  },
  {
   "cell_type": "markdown",
   "metadata": {},
   "source": [
    "## Debug mode?"
   ]
  },
  {
   "cell_type": "code",
   "execution_count": null,
   "metadata": {
    "scrolled": false
   },
   "outputs": [],
   "source": [
    "adapters.SPI.DEBUG_MODE = False  # whether to show SPI written data.\n",
    "AD9833.DEBUG_MODE = False        # whether to dump registers. "
   ]
  },
  {
   "cell_type": "markdown",
   "metadata": {},
   "source": [
    "## Generators"
   ]
  },
  {
   "cell_type": "code",
   "execution_count": null,
   "metadata": {},
   "outputs": [],
   "source": [
    "with_hardware_device = True\n",
    "\n",
    "if with_hardware_device:\n",
    "    _spi = adapters.SPI.get_uPy_spi(polarity = 1)\n",
    "    _ss1 = adapters.Pin.get_uPy_pin(pin_id = 15, output = True) \n",
    "    _ss2 = adapters.Pin.get_uPy_pin(pin_id =  4, output = True) \n",
    "else:\n",
    "    _spi = _ss1 = _ss2 = None  # using None for testing without actual hardware device.\n",
    "\n",
    "ad1 = AD9833(_spi, _ss1)\n",
    "ad2 = AD9833(_spi, _ss2)"
   ]
  },
  {
   "cell_type": "code",
   "execution_count": null,
   "metadata": {},
   "outputs": [],
   "source": [
    "ad1.reset()\n",
    "ad2.reset()"
   ]
  },
  {
   "cell_type": "code",
   "execution_count": null,
   "metadata": {},
   "outputs": [],
   "source": [
    "ad1.enable_output(False)\n",
    "ad2.enable_output(False)"
   ]
  },
  {
   "cell_type": "markdown",
   "metadata": {},
   "source": [
    "## Frequency Sweeping"
   ]
  },
  {
   "cell_type": "code",
   "execution_count": null,
   "metadata": {},
   "outputs": [],
   "source": [
    "tb = tools.ToolBox()"
   ]
  },
  {
   "cell_type": "code",
   "execution_count": null,
   "metadata": {},
   "outputs": [],
   "source": [
    "tb.sweep(ad1, freq_start = 10, freq_end = int(1e6), n_freqs = 100,\n",
    "         sweep_type = 'logarithm', direction = 'round_trip', n_cycles = 2,\n",
    "         slot_duration = 0.01, between_cycle_seconds = 0);"
   ]
  },
  {
   "cell_type": "markdown",
   "metadata": {},
   "source": [
    "## Function Toggling"
   ]
  },
  {
   "cell_type": "code",
   "execution_count": null,
   "metadata": {},
   "outputs": [],
   "source": [
    "duration_seconds, count, cycle_time = tb.toggle(ad1,\n",
    "                                                fun = 'enable_output', params = ({'value': True}, {'value': False}),\n",
    "                                                n_cycles = 3, slot_duration = 0.2, between_cycle_seconds = 0.2)\n",
    "print('duration_seconds, count, cycle_time', duration_seconds, count, cycle_time)"
   ]
  },
  {
   "cell_type": "markdown",
   "metadata": {},
   "source": [
    "## Waveform Juggling"
   ]
  },
  {
   "cell_type": "code",
   "execution_count": null,
   "metadata": {},
   "outputs": [],
   "source": [
    "tb.juggle((ad1, ad2),\n",
    "          freq_start = int(1e2), freq_end = int(2e4), n_freqs = 100, freqs_type = 'logarithm',\n",
    "          slot_duration = 0.2, between_cycle_seconds = 0.2,\n",
    "          n_juggles = 10)"
   ]
  }
 ],
 "metadata": {
  "kernelspec": {
   "display_name": "MicroPython Remote",
   "language": "micropython",
   "name": "micropython"
  },
  "language_info": {
   "codemirror_mode": "python",
   "file_extension": ".py",
   "mimetype": "text/python",
   "name": "micropython"
  }
 },
 "nbformat": 4,
 "nbformat_minor": 2
}
