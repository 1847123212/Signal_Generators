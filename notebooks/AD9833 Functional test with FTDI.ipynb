{
 "cells": [
  {
   "cell_type": "markdown",
   "metadata": {},
   "source": [
    "# AD9833 Functional test with FTDI\n",
    "https://www.analog.com/media/en/technical-documentation/data-sheets/ad9833.pdf"
   ]
  },
  {
   "cell_type": "code",
   "execution_count": 1,
   "metadata": {},
   "outputs": [],
   "source": [
    "import os, sys\n",
    "\n",
    "def gen_relative_path(target_path): \n",
    "    \n",
    "    def del_same_parents(target_path, current_path):\n",
    "        if len(target_path) * len(current_path) > 0:\n",
    "            if target_path[0] == current_path[0]:\n",
    "                target_path.pop(0)\n",
    "                current_path.pop(0)\n",
    "                del_same_parents(target_path, current_path)\n",
    "            \n",
    "    current_path = os.getcwd().replace('\\\\', '/').split('/')\n",
    "    target_path = target_path.replace('\\\\', '/').split('/')\n",
    "    del_same_parents(target_path, current_path)\n",
    "    \n",
    "    return ['..'] * len(current_path) + target_path\n",
    "\n",
    "\n",
    "def append_source_relative_path(source_relative_path):\n",
    "    sys.path.append(os.sep.join(source_relative_path))"
   ]
  },
  {
   "cell_type": "code",
   "execution_count": 2,
   "metadata": {},
   "outputs": [],
   "source": [
    "# paths = ['']\n",
    "# paths = [gen_relative_path(p) for p in paths]\n",
    "# print(paths)"
   ]
  },
  {
   "cell_type": "code",
   "execution_count": 3,
   "metadata": {},
   "outputs": [],
   "source": [
    "paths = [['..', '..', '..', '..', 'ORM', 'bitbucket', 'github', 'codes'],\n",
    "         ['..', '..', '..', '..', 'USB', 'Universal Serial Bus', 'bitbucket', 'github', 'codes'], \n",
    "         ['..', '..', '..', '..', '..', '已完成', 'Bridges', 'bitbucket', 'github', 'codes'], \n",
    "         ['..', 'codes']]\n",
    "\n",
    "for path in paths:\n",
    "    append_source_relative_path(path)"
   ]
  },
  {
   "cell_type": "code",
   "execution_count": 4,
   "metadata": {},
   "outputs": [
    {
     "name": "stdout",
     "output_type": "stream",
     "text": [
      "Populating the interactive namespace from numpy and matplotlib\n"
     ]
    }
   ],
   "source": [
    "%pylab inline\n",
    "\n",
    "from signal_generators import adapters, register\n",
    "from signal_generators.ad983x.ad9833 import *\n",
    "from signal_generators.shift_register import ShiftRegister"
   ]
  },
  {
   "cell_type": "markdown",
   "metadata": {},
   "source": [
    "## Debug mode?"
   ]
  },
  {
   "cell_type": "code",
   "execution_count": 5,
   "metadata": {
    "scrolled": false
   },
   "outputs": [],
   "source": [
    "adapters.SPI.DEBUG_MODE = False  # whether to show SPI written data.\n",
    "AD9833.DEBUG_MODE = False        # whether to dump registers. "
   ]
  },
  {
   "cell_type": "markdown",
   "metadata": {},
   "source": [
    "## Generators and Modulators"
   ]
  },
  {
   "cell_type": "code",
   "execution_count": 6,
   "metadata": {},
   "outputs": [],
   "source": [
    "with_hardware_device = True\n",
    "\n",
    "if with_hardware_device:\n",
    "    _clk = adapters.Pin.get_Ftdi_pin(pin_id = 4)\n",
    "    _data = adapters.Pin.get_Ftdi_pin(pin_id = 1)\n",
    "\n",
    "    _ss = adapters.Pin.get_Ftdi_pin(pin_id = 3)\n",
    "    _ss2 = adapters.Pin.get_Ftdi_pin(pin_id = 0)\n",
    "\n",
    "    _spi = ShiftRegister(stb_pin = _ss, clk_pin = _clk, data_pin = _data, polarity = 1)\n",
    "else:\n",
    "    _spi = _ss = None  # using None for testing without actual hardware device.\n",
    "\n",
    "ad = AD9833(_spi, _ss)  \n",
    "ad.reset()"
   ]
  },
  {
   "cell_type": "markdown",
   "metadata": {},
   "source": [
    "## Member functions test"
   ]
  },
  {
   "cell_type": "code",
   "execution_count": 7,
   "metadata": {},
   "outputs": [
    {
     "name": "stdout",
     "output_type": "stream",
     "text": [
      "ad.DEBUG_MODE()\n",
      "ad.REGISTERS_COUNT()\n",
      "ad.active_freq_reg_idx()\n",
      "ad.active_phase_reg_idx()\n",
      "ad.apply_signal()\n",
      "ad.close()\n",
      "ad.current_frequency()\n",
      "ad.current_frequency_register()\n",
      "ad.current_phase()\n",
      "ad.current_phase_register()\n",
      "ad.do()\n",
      "ad.do_on_devices()\n",
      "ad.dump()\n",
      "ad.enable()\n",
      "ad.enable_output()\n",
      "ad.enabled()\n",
      "ad.freq_resolution()\n",
      "ad.frequency()\n",
      "ad.init()\n",
      "ad.pause()\n",
      "ad.phase_resolution()\n",
      "ad.reset()\n",
      "ad.resume()\n",
      "ad.select_freq_source()\n",
      "ad.select_phase_source()\n",
      "ad.set_frequency()\n",
      "ad.set_phase()\n",
      "ad.shape()\n",
      "ad.start()\n",
      "ad.stop()\n",
      "ad.update()\n"
     ]
    }
   ],
   "source": [
    "for f in dir(AD9833):\n",
    "    if not f.startswith('_'):\n",
    "        print('ad.{}()'.format(f))"
   ]
  },
  {
   "cell_type": "code",
   "execution_count": 8,
   "metadata": {},
   "outputs": [
    {
     "name": "stdout",
     "output_type": "stream",
     "text": [
      "\n",
      "<< Control >>    :  ('0x2000', '0b10000000000000')\n",
      "[ D15 ]        :  0\n",
      "[ D14 ]        :  0\n",
      "[ B28 ]        :  1\n",
      "[ HLB ]        :  0\n",
      "[ FSELECT ]    :  0\n",
      "[ PSELECT ]    :  0\n",
      "[ Reserved_9 ] :  0\n",
      "[ Reset ]      :  0\n",
      "[ SLEEP1 ]     :  0\n",
      "[ SLEEP12 ]    :  0\n",
      "[ OPBITEN ]    :  0\n",
      "[ Reserved_4 ] :  0\n",
      "[ DIV2 ]       :  0\n",
      "[ Reserved_2 ] :  0\n",
      "[ Mode ]       :  0\n",
      "[ Reserved_0 ] :  0\n",
      "\n",
      "<< Frequency >> :  ('0x4000', '0b100000000000000')\n",
      "[ Index ]     :  1\n",
      "[ Frequency ] :  0\n",
      "[ Hz ]        :  440.00\n",
      "[ Wave length (m) ]:  6.81346e+05\n",
      "[ Period (s) ]:  2.27273e-03\n",
      "[ MCLK ]      :  25000000\n",
      "\n",
      "<< Phase >> :  ('0xc000', '0b1100000000000000')\n",
      "[ D15 ]   :  1\n",
      "[ D14 ]   :  1\n",
      "[ Index ] :  0\n",
      "[ Phase ] :  0\n",
      "[ Degree ]:  0.00\n",
      "\n",
      "<< Frequency >> :  ('0x8000', '0b1000000000000000')\n",
      "[ Index ]     :  2\n",
      "[ Frequency ] :  0\n",
      "[ Hz ]        :  440.00\n",
      "[ Wave length (m) ]:  6.81346e+05\n",
      "[ Period (s) ]:  2.27273e-03\n",
      "[ MCLK ]      :  25000000\n",
      "\n",
      "<< Phase >> :  ('0xe000', '0b1110000000000000')\n",
      "[ D15 ]   :  1\n",
      "[ D14 ]   :  1\n",
      "[ Index ] :  1\n",
      "[ Phase ] :  0\n",
      "[ Degree ]:  0.00\n"
     ]
    }
   ],
   "source": [
    "ad.dump()"
   ]
  },
  {
   "cell_type": "code",
   "execution_count": 9,
   "metadata": {
    "scrolled": false
   },
   "outputs": [
    {
     "name": "stdout",
     "output_type": "stream",
     "text": [
      "\n",
      "<< test >>       :  ('0x2000', '0b10000000000000')\n",
      "[ D15 ]        :  0\n",
      "[ D14 ]        :  0\n",
      "[ B28 ]        :  1\n",
      "[ HLB ]        :  0\n",
      "[ FSELECT ]    :  0\n",
      "[ PSELECT ]    :  0\n",
      "[ Reserved_9 ] :  0\n",
      "[ Reset ]      :  0\n",
      "[ SLEEP1 ]     :  0\n",
      "[ SLEEP12 ]    :  0\n",
      "[ OPBITEN ]    :  0\n",
      "[ Reserved_4 ] :  0\n",
      "[ DIV2 ]       :  0\n",
      "[ Reserved_2 ] :  0\n",
      "[ Mode ]       :  0\n",
      "[ Reserved_0 ] :  0\n"
     ]
    }
   ],
   "source": [
    "cr = ad.control_register\n",
    "cr_dict = cr.elements_dict_list\n",
    "cr1 = register.Register('test')\n",
    "cr1.load_from_dict(cr_dict)\n",
    "cr1.dump();"
   ]
  },
  {
   "cell_type": "code",
   "execution_count": 10,
   "metadata": {},
   "outputs": [
    {
     "name": "stdout",
     "output_type": "stream",
     "text": [
      "ad.DEBUG_MODE()\n",
      "ad.REGISTERS_COUNT()\n",
      "ad.active_freq_reg_idx()\n",
      "ad.active_phase_reg_idx()\n",
      "ad.apply_signal()\n",
      "ad.close()\n",
      "ad.current_frequency()\n",
      "ad.current_frequency_register()\n",
      "ad.current_phase()\n",
      "ad.current_phase_register()\n",
      "ad.do()\n",
      "ad.do_on_devices()\n",
      "ad.dump()\n",
      "ad.enable()\n",
      "ad.enable_output()\n",
      "ad.enabled()\n",
      "ad.freq_resolution()\n",
      "ad.frequency()\n",
      "ad.init()\n",
      "ad.pause()\n",
      "ad.phase_resolution()\n",
      "ad.reset()\n",
      "ad.resume()\n",
      "ad.select_freq_source()\n",
      "ad.select_phase_source()\n",
      "ad.set_frequency()\n",
      "ad.set_phase()\n",
      "ad.shape()\n",
      "ad.start()\n",
      "ad.stop()\n",
      "ad.update()\n"
     ]
    }
   ],
   "source": [
    "for f in dir(AD9833):\n",
    "    if not f.startswith('_'):\n",
    "        print('ad.{}()'.format(f))"
   ]
  },
  {
   "cell_type": "code",
   "execution_count": 11,
   "metadata": {},
   "outputs": [],
   "source": [
    "ad.apply_signal()"
   ]
  },
  {
   "cell_type": "code",
   "execution_count": 12,
   "metadata": {},
   "outputs": [],
   "source": [
    "ad.close()"
   ]
  },
  {
   "cell_type": "code",
   "execution_count": 13,
   "metadata": {},
   "outputs": [],
   "source": [
    "ad.start()"
   ]
  },
  {
   "cell_type": "code",
   "execution_count": 14,
   "metadata": {
    "scrolled": false
   },
   "outputs": [],
   "source": [
    "ad.init()"
   ]
  },
  {
   "cell_type": "code",
   "execution_count": 15,
   "metadata": {},
   "outputs": [
    {
     "data": {
      "text/plain": [
       "440"
      ]
     },
     "execution_count": 15,
     "metadata": {},
     "output_type": "execute_result"
    }
   ],
   "source": [
    "ad.current_frequency"
   ]
  },
  {
   "cell_type": "code",
   "execution_count": 16,
   "metadata": {},
   "outputs": [
    {
     "data": {
      "text/plain": [
       "0"
      ]
     },
     "execution_count": 16,
     "metadata": {},
     "output_type": "execute_result"
    }
   ],
   "source": [
    "ad.current_phase"
   ]
  },
  {
   "cell_type": "code",
   "execution_count": 17,
   "metadata": {},
   "outputs": [],
   "source": [
    "ad.enable_output(False)"
   ]
  },
  {
   "cell_type": "code",
   "execution_count": 18,
   "metadata": {},
   "outputs": [],
   "source": [
    "ad.enable_output(True)"
   ]
  },
  {
   "cell_type": "code",
   "execution_count": 19,
   "metadata": {},
   "outputs": [
    {
     "data": {
      "text/plain": [
       "False"
      ]
     },
     "execution_count": 19,
     "metadata": {},
     "output_type": "execute_result"
    }
   ],
   "source": [
    "ad.enable(False)\n",
    "ad.enabled"
   ]
  },
  {
   "cell_type": "code",
   "execution_count": 20,
   "metadata": {},
   "outputs": [],
   "source": [
    "ad._enable_internal_clock(True)"
   ]
  },
  {
   "cell_type": "code",
   "execution_count": 21,
   "metadata": {},
   "outputs": [
    {
     "data": {
      "text/plain": [
       "True"
      ]
     },
     "execution_count": 21,
     "metadata": {},
     "output_type": "execute_result"
    }
   ],
   "source": [
    "ad.enable(True)\n",
    "ad.enabled"
   ]
  },
  {
   "cell_type": "code",
   "execution_count": 22,
   "metadata": {},
   "outputs": [],
   "source": [
    "ad.start()"
   ]
  },
  {
   "cell_type": "code",
   "execution_count": 23,
   "metadata": {},
   "outputs": [
    {
     "data": {
      "text/plain": [
       "0.09313225746154785"
      ]
     },
     "execution_count": 23,
     "metadata": {},
     "output_type": "execute_result"
    }
   ],
   "source": [
    "ad.freq_resolution"
   ]
  },
  {
   "cell_type": "code",
   "execution_count": 24,
   "metadata": {},
   "outputs": [
    {
     "data": {
      "text/plain": [
       "440"
      ]
     },
     "execution_count": 24,
     "metadata": {},
     "output_type": "execute_result"
    }
   ],
   "source": [
    "ad.frequency"
   ]
  },
  {
   "cell_type": "code",
   "execution_count": 25,
   "metadata": {},
   "outputs": [],
   "source": [
    "ad.pause()"
   ]
  },
  {
   "cell_type": "code",
   "execution_count": 26,
   "metadata": {},
   "outputs": [],
   "source": [
    "ad.resume()"
   ]
  },
  {
   "cell_type": "code",
   "execution_count": 27,
   "metadata": {},
   "outputs": [],
   "source": [
    "ad.select_freq_source(1)"
   ]
  },
  {
   "cell_type": "code",
   "execution_count": 28,
   "metadata": {},
   "outputs": [],
   "source": [
    "ad.select_phase_source(1)"
   ]
  },
  {
   "cell_type": "code",
   "execution_count": 29,
   "metadata": {},
   "outputs": [],
   "source": [
    "ad.enable(False)"
   ]
  },
  {
   "cell_type": "code",
   "execution_count": 30,
   "metadata": {},
   "outputs": [],
   "source": [
    "ad.enable(True)"
   ]
  },
  {
   "cell_type": "code",
   "execution_count": 31,
   "metadata": {},
   "outputs": [],
   "source": [
    "ad.start()"
   ]
  },
  {
   "cell_type": "code",
   "execution_count": 32,
   "metadata": {},
   "outputs": [],
   "source": [
    "ad.shape = 'square'"
   ]
  },
  {
   "cell_type": "code",
   "execution_count": 33,
   "metadata": {},
   "outputs": [
    {
     "data": {
      "text/plain": [
       "'sine'"
      ]
     },
     "execution_count": 33,
     "metadata": {},
     "output_type": "execute_result"
    }
   ],
   "source": [
    "ad.shape = 'sine'\n",
    "ad.shape"
   ]
  },
  {
   "cell_type": "code",
   "execution_count": 34,
   "metadata": {},
   "outputs": [],
   "source": [
    "ad.set_frequency(freq = 440, idx = 0)\n",
    "ad.select_freq_source(0)"
   ]
  },
  {
   "cell_type": "code",
   "execution_count": 35,
   "metadata": {},
   "outputs": [
    {
     "name": "stdout",
     "output_type": "stream",
     "text": [
      "\n",
      "<< Frequency >> :  ('0x4000', '0b100000000000000')\n",
      "[ Index ]     :  1\n",
      "[ Frequency ] :  0\n",
      "[ Hz ]        :  440.00\n",
      "[ Wave length (m) ]:  6.81346e+05\n",
      "[ Period (s) ]:  2.27273e-03\n",
      "[ MCLK ]      :  25000000\n"
     ]
    }
   ],
   "source": [
    "ad.current_frequency_register.dump()"
   ]
  },
  {
   "cell_type": "code",
   "execution_count": 36,
   "metadata": {},
   "outputs": [],
   "source": [
    "ad.set_phase(30)"
   ]
  },
  {
   "cell_type": "code",
   "execution_count": 37,
   "metadata": {},
   "outputs": [
    {
     "data": {
      "text/plain": [
       "(45.52734375, 45.5)"
      ]
     },
     "execution_count": 37,
     "metadata": {},
     "output_type": "execute_result"
    }
   ],
   "source": [
    "ad.set_phase(phase = 45.5)\n",
    "\n",
    "ad.current_phase_register.elements['Phase'].value / ad9833.POW2_12 * ad9833.DEGREES_IN_PI2, ad.current_phase"
   ]
  },
  {
   "cell_type": "code",
   "execution_count": 38,
   "metadata": {},
   "outputs": [],
   "source": [
    "ad.update()"
   ]
  },
  {
   "cell_type": "code",
   "execution_count": 39,
   "metadata": {},
   "outputs": [],
   "source": [
    "ad.reset()"
   ]
  },
  {
   "cell_type": "code",
   "execution_count": 40,
   "metadata": {},
   "outputs": [],
   "source": [
    "ad.start()"
   ]
  },
  {
   "cell_type": "code",
   "execution_count": 41,
   "metadata": {},
   "outputs": [],
   "source": [
    "ad.stop()"
   ]
  },
  {
   "cell_type": "code",
   "execution_count": 42,
   "metadata": {},
   "outputs": [],
   "source": [
    "ad.close()"
   ]
  }
 ],
 "metadata": {
  "kernelspec": {
   "display_name": "Python 3",
   "language": "python",
   "name": "python3"
  },
  "language_info": {
   "codemirror_mode": {
    "name": "ipython",
    "version": 3
   },
   "file_extension": ".py",
   "mimetype": "text/x-python",
   "name": "python",
   "nbconvert_exporter": "python",
   "pygments_lexer": "ipython3",
   "version": "3.6.10"
  }
 },
 "nbformat": 4,
 "nbformat_minor": 2
}
